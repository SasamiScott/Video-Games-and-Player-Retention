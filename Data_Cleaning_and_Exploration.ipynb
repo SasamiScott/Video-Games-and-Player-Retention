{
  "nbformat": 4,
  "nbformat_minor": 0,
  "metadata": {
    "colab": {
      "name": "Data Cleaning and Exploration.ipynb",
      "provenance": [],
      "collapsed_sections": [
        "l1QHWKv6U0Ff",
        "VEMfZdWv9nWV"
      ],
      "authorship_tag": "ABX9TyPSpA4gV+TDYdMgzomEdF2Z",
      "include_colab_link": true
    },
    "kernelspec": {
      "name": "python3",
      "display_name": "Python 3"
    }
  },
  "cells": [
    {
      "cell_type": "markdown",
      "metadata": {
        "id": "view-in-github",
        "colab_type": "text"
      },
      "source": [
        "<a href=\"https://colab.research.google.com/github/SasamiScott/Video-Games-and-Player-Retention/blob/master/Data_Cleaning_and_Exploration.ipynb\" target=\"_parent\"><img src=\"https://colab.research.google.com/assets/colab-badge.svg\" alt=\"Open In Colab\"/></a>"
      ]
    },
    {
      "cell_type": "code",
      "metadata": {
        "id": "mBbqRVnFJOVj",
        "colab_type": "code",
        "colab": {
          "base_uri": "https://localhost:8080/",
          "height": 71
        },
        "outputId": "1cfd02d2-b6c7-44fc-d129-bfc3c99e6e96"
      },
      "source": [
        "import pandas as pd\n",
        "import numpy as np\n",
        "import matplotlib.pyplot as plt\n",
        "import seaborn as sns\n",
        "import datetime"
      ],
      "execution_count": null,
      "outputs": [
        {
          "output_type": "stream",
          "text": [
            "/usr/local/lib/python3.6/dist-packages/statsmodels/tools/_testing.py:19: FutureWarning: pandas.util.testing is deprecated. Use the functions in the public API at pandas.testing instead.\n",
            "  import pandas.util.testing as tm\n"
          ],
          "name": "stderr"
        }
      ]
    },
    {
      "cell_type": "code",
      "metadata": {
        "id": "TURSvQrrKT9E",
        "colab_type": "code",
        "colab": {
          "base_uri": "https://localhost:8080/",
          "height": 122
        },
        "outputId": "a5cc4865-53bb-4a5c-be52-55854900b4da"
      },
      "source": [
        "from google.colab import drive\n",
        "drive.mount('/content/gdrive')"
      ],
      "execution_count": null,
      "outputs": [
        {
          "output_type": "stream",
          "text": [
            "Go to this URL in a browser: https://accounts.google.com/o/oauth2/auth?client_id=947318989803-6bn6qk8qdgf4n4g3pfee6491hc0brc4i.apps.googleusercontent.com&redirect_uri=urn%3aietf%3awg%3aoauth%3a2.0%3aoob&scope=email%20https%3a%2f%2fwww.googleapis.com%2fauth%2fdocs.test%20https%3a%2f%2fwww.googleapis.com%2fauth%2fdrive%20https%3a%2f%2fwww.googleapis.com%2fauth%2fdrive.photos.readonly%20https%3a%2f%2fwww.googleapis.com%2fauth%2fpeopleapi.readonly&response_type=code\n",
            "\n",
            "Enter your authorization code:\n",
            "··········\n",
            "Mounted at /content/gdrive\n"
          ],
          "name": "stdout"
        }
      ]
    },
    {
      "cell_type": "code",
      "metadata": {
        "id": "1u5FxZ2CKXl3",
        "colab_type": "code",
        "colab": {}
      },
      "source": [
        "prdf = pd.read_csv('/content/gdrive/My Drive/Colab Notebooks/prdf.csv', index_col=[0])"
      ],
      "execution_count": null,
      "outputs": []
    },
    {
      "cell_type": "markdown",
      "metadata": {
        "id": "l1QHWKv6U0Ff",
        "colab_type": "text"
      },
      "source": [
        "# Basic Histograms"
      ]
    },
    {
      "cell_type": "code",
      "metadata": {
        "id": "5ooSFza6wdb8",
        "colab_type": "code",
        "colab": {
          "base_uri": "https://localhost:8080/",
          "height": 281
        },
        "outputId": "12ceaba1-078e-42d9-f7e3-a2ac0c37a98c"
      },
      "source": [
        "a = prdf['game_count'].unique() + 1\n",
        "plt.hist(np.log10(a), density=True)\n",
        "plt.title('game_count')\n",
        "plt.savefig('/content/gdrive/My Drive/Colab Notebooks/Figures/Updated Hist/game_counthist.png')"
      ],
      "execution_count": null,
      "outputs": [
        {
          "output_type": "display_data",
          "data": {
            "image/png": "[encoded data removed]",
            "text/plain": [
              "<Figure size 432x288 with 1 Axes>"
            ]
          },
          "metadata": {
            "tags": [],
            "needs_background": "light"
          }
        }
      ]
    },
    {
      "cell_type": "code",
      "metadata": {
        "id": "cfms-BYyLyrl",
        "colab_type": "code",
        "colab": {
          "base_uri": "https://localhost:8080/",
          "height": 281
        },
        "outputId": "948b0186-115f-4790-d01b-7434f17849b9"
      },
      "source": [
        "plt.hist(np.log10(prdf['playtime (min)'] + 1), density=True)\n",
        "plt.title('playtime (min)')\n",
        "plt.savefig('/content/gdrive/My Drive/Colab Notebooks/playtimehist.png')"
      ],
      "execution_count": null,
      "outputs": [
        {
          "output_type": "display_data",
          "data": {
            "image/png": "[encoded data removed]",
            "text/plain": [
              "<Figure size 432x288 with 1 Axes>"
            ]
          },
          "metadata": {
            "tags": [],
            "needs_background": "light"
          }
        }
      ]
    },
    {
      "cell_type": "code",
      "metadata": {
        "id": "X9laOtxENF28",
        "colab_type": "code",
        "colab": {
          "base_uri": "https://localhost:8080/",
          "height": 281
        },
        "outputId": "be5415a7-9bef-49a4-a5a0-e6fde45be86f"
      },
      "source": [
        "plt.hist(np.log10(prdf['achievements'] + 1), density=True)\n",
        "plt.title('achievements')\n",
        "plt.savefig('/content/gdrive/My Drive/Colab Notebooks/achievementshist.png')"
      ],
      "execution_count": null,
      "outputs": [
        {
          "output_type": "display_data",
          "data": {
            "image/png": "[encoded data removed]",
            "text/plain": [
              "<Figure size 432x288 with 1 Axes>"
            ]
          },
          "metadata": {
            "tags": [],
            "needs_background": "light"
          }
        }
      ]
    },
    {
      "cell_type": "code",
      "metadata": {
        "id": "s0H3rdvnNtJo",
        "colab_type": "code",
        "colab": {
          "base_uri": "https://localhost:8080/",
          "height": 281
        },
        "outputId": "12d509c8-4e00-4518-c1c1-9df46908f8c3"
      },
      "source": [
        "plt.hist(np.log10(prdf['positive_ratings'] + 1), density=True)\n",
        "plt.title('positive_ratings')\n",
        "plt.savefig('/content/gdrive/My Drive/Colab Notebooks/posrathist.png')"
      ],
      "execution_count": null,
      "outputs": [
        {
          "output_type": "display_data",
          "data": {
            "image/png": "[encoded data removed]",
            "text/plain": [
              "<Figure size 432x288 with 1 Axes>"
            ]
          },
          "metadata": {
            "tags": [],
            "needs_background": "light"
          }
        }
      ]
    },
    {
      "cell_type": "code",
      "metadata": {
        "id": "ga1oi5ddOGQN",
        "colab_type": "code",
        "colab": {
          "base_uri": "https://localhost:8080/",
          "height": 281
        },
        "outputId": "f6c9fb15-3d0a-4cc2-c4db-5e766c49d80b"
      },
      "source": [
        "plt.hist(np.log10(prdf['negative_ratings'] + 1), density=True)\n",
        "plt.title('negative_ratings')\n",
        "plt.savefig('/content/gdrive/My Drive/Colab Notebooks/negratehist.png')"
      ],
      "execution_count": null,
      "outputs": [
        {
          "output_type": "display_data",
          "data": {
            "image/png": "[encoded data removed]",
            "text/plain": [
              "<Figure size 432x288 with 1 Axes>"
            ]
          },
          "metadata": {
            "tags": [],
            "needs_background": "light"
          }
        }
      ]
    },
    {
      "cell_type": "code",
      "metadata": {
        "id": "ThoeFkJiOJ6g",
        "colab_type": "code",
        "colab": {
          "base_uri": "https://localhost:8080/",
          "height": 281
        },
        "outputId": "f5c73d1c-c4f3-4d81-cf17-dbbbf237478f"
      },
      "source": [
        "plt.hist(np.log10(prdf['average_playtime'] + 1), density=True)\n",
        "plt.title('average_playtime')\n",
        "plt.savefig('/content/gdrive/My Drive/Colab Notebooks/averageplaytimehist.png')"
      ],
      "execution_count": null,
      "outputs": [
        {
          "output_type": "display_data",
          "data": {
            "image/png": "[encoded data removed]",
            "text/plain": [
              "<Figure size 432x288 with 1 Axes>"
            ]
          },
          "metadata": {
            "tags": [],
            "needs_background": "light"
          }
        }
      ]
    },
    {
      "cell_type": "code",
      "metadata": {
        "id": "3WpeH4-POQGU",
        "colab_type": "code",
        "colab": {
          "base_uri": "https://localhost:8080/",
          "height": 281
        },
        "outputId": "6b6a7432-bd00-4413-a766-6399dc5561f3"
      },
      "source": [
        "plt.hist(np.log10(prdf['median_playtime'] + 1), density=True)\n",
        "plt.title('median_playtime')\n",
        "plt.savefig('/content/gdrive/My Drive/Colab Notebooks/medianplaytimehist.png')"
      ],
      "execution_count": null,
      "outputs": [
        {
          "output_type": "display_data",
          "data": {
            "image/png": "[encoded data removed]",
            "text/plain": [
              "<Figure size 432x288 with 1 Axes>"
            ]
          },
          "metadata": {
            "tags": [],
            "needs_background": "light"
          }
        }
      ]
    },
    {
      "cell_type": "code",
      "metadata": {
        "id": "ajudTXqcOvoz",
        "colab_type": "code",
        "colab": {
          "base_uri": "https://localhost:8080/",
          "height": 281
        },
        "outputId": "92bea036-e023-458c-ee5f-85a9692bb7ed"
      },
      "source": [
        "plt.hist(np.log10(prdf['price'] + 1), density=True)\n",
        "plt.title('price')\n",
        "plt.savefig('/content/gdrive/My Drive/Colab Notebooks/pricehist.png')"
      ],
      "execution_count": null,
      "outputs": [
        {
          "output_type": "display_data",
          "data": {
            "image/png": "[encoded data removed]",
            "text/plain": [
              "<Figure size 432x288 with 1 Axes>"
            ]
          },
          "metadata": {
            "tags": [],
            "needs_background": "light"
          }
        }
      ]
    },
    {
      "cell_type": "code",
      "metadata": {
        "id": "FkFd3ahGO_wX",
        "colab_type": "code",
        "colab": {
          "base_uri": "https://localhost:8080/",
          "height": 281
        },
        "outputId": "723ac7ba-1583-4a85-a3ed-e29fb111d9f1"
      },
      "source": [
        "a = prdf['gameplay main (hrs)'] + 1\n",
        "a = a[a>1]\n",
        "plt.hist(np.log10(a), density=True)\n",
        "plt.title('gameplay main (hrs)')\n",
        "plt.savefig('/content/gdrive/My Drive/Colab Notebooks/gameplaymain.png')"
      ],
      "execution_count": null,
      "outputs": [
        {
          "output_type": "display_data",
          "data": {
            "image/png": "[encoded data removed]",
            "text/plain": [
              "<Figure size 432x288 with 1 Axes>"
            ]
          },
          "metadata": {
            "tags": [],
            "needs_background": "light"
          }
        }
      ]
    },
    {
      "cell_type": "code",
      "metadata": {
        "id": "xN_ZQn1-PIL5",
        "colab_type": "code",
        "colab": {
          "base_uri": "https://localhost:8080/",
          "height": 281
        },
        "outputId": "15e09d4e-ad7c-45cb-96ca-c3ec6b824f69"
      },
      "source": [
        "a = prdf['gameplay main extra (hrs)'] + 1\n",
        "a = a[a>1]\n",
        "plt.hist(np.log10(a), density=True)\n",
        "plt.title('gameplay main extra (hrs)')\n",
        "plt.savefig('/content/gdrive/My Drive/Colab Notebooks/mainextrahist.png')"
      ],
      "execution_count": null,
      "outputs": [
        {
          "output_type": "display_data",
          "data": {
            "image/png": "[encoded data removed]",
            "text/plain": [
              "<Figure size 432x288 with 1 Axes>"
            ]
          },
          "metadata": {
            "tags": [],
            "needs_background": "light"
          }
        }
      ]
    },
    {
      "cell_type": "code",
      "metadata": {
        "id": "RWsJNnglPYzk",
        "colab_type": "code",
        "colab": {
          "base_uri": "https://localhost:8080/",
          "height": 281
        },
        "outputId": "56d76e28-9646-4933-947c-f8441cfbd70f"
      },
      "source": [
        "a = prdf['gameplay completionist (hrs)'] + 1\n",
        "a = a[a>1]\n",
        "plt.hist(np.log10(a), density=True)\n",
        "plt.title('gameplay completionist (hrs)')\n",
        "plt.savefig('/content/gdrive/My Drive/Colab Notebooks/completionisthist.png')"
      ],
      "execution_count": null,
      "outputs": [
        {
          "output_type": "display_data",
          "data": {
            "image/png": "[encoded data removed]",
            "text/plain": [
              "<Figure size 432x288 with 1 Axes>"
            ]
          },
          "metadata": {
            "tags": [],
            "needs_background": "light"
          }
        }
      ]
    },
    {
      "cell_type": "markdown",
      "metadata": {
        "id": "VEMfZdWv9nWV",
        "colab_type": "text"
      },
      "source": [
        "# Cleaning\n"
      ]
    },
    {
      "cell_type": "code",
      "metadata": {
        "id": "U93QvEK-E_4c",
        "colab_type": "code",
        "colab": {}
      },
      "source": [
        "#Steam playtime is converted to hours so it matches with the howlongtobeat data\n",
        "\n",
        "prdf['playtime (hrs)'] = prdf['playtime (min)'] / 60\n",
        "prdf['average total playtime (hrs)'] = prdf['average_playtime'] / 60\n",
        "prdf['median total playtime (hrs)'] = prdf['median_playtime'] / 60\n",
        "\n",
        "prdf = prdf.drop(['playtime (min)'], axis=1)\n",
        "prdf = prdf.drop(['average_playtime'], axis=1)\n",
        "prdf = prdf.drop(['median_playtime'], axis=1)"
      ],
      "execution_count": null,
      "outputs": []
    },
    {
      "cell_type": "code",
      "metadata": {
        "id": "apsvzmbUHCrN",
        "colab_type": "code",
        "colab": {
          "base_uri": "https://localhost:8080/"
        },
        "outputId": "4077e4e6-d027-416b-d95b-edf816fe4e8d"
      },
      "source": [
        "#if the gameplay time is 0 then there is not a 'story mode' and should not be included, and if its -1 the gameplay time is unknown\n",
        "\n",
        "prdf = prdf[prdf['gameplay main (hrs)'] > 0]\n",
        "prdf = prdf[prdf['gameplay main extra (hrs)'] > 0]\n",
        "prdf = prdf[prdf['gameplay completionist (hrs)'] > 0]\n",
        "\n",
        "num_games = prdf['appid'].unique().size\n",
        "print('Number of Games: ' + str(num_games))\n",
        "print('Number of Rows: ' + str(prdf.shape[0]))"
      ],
      "execution_count": null,
      "outputs": [
        {
          "output_type": "stream",
          "text": [
            "Number of Games: 3214\n",
            "Number of Rows: 195055\n"
          ],
          "name": "stdout"
        }
      ]
    },
    {
      "cell_type": "code",
      "metadata": {
        "id": "a3ePjGW3IbBU",
        "colab_type": "code",
        "colab": {}
      },
      "source": [
        "#some of the datatypes need to be changed\n",
        "\n",
        "prdf = (\n",
        "    prdf\n",
        "    .astype(\n",
        "        {'release_date': 'datetime64', \n",
        "         'english': 'bool',\n",
        "         'platforms': 'str',\n",
        "         'categories': 'str',\n",
        "         'genres': 'str',\n",
        "         'steamspy_tags': 'str'\n",
        "        })\n",
        ")"
      ],
      "execution_count": null,
      "outputs": []
    },
    {
      "cell_type": "code",
      "metadata": {
        "id": "IknnQ-zAOmYG",
        "colab_type": "code",
        "colab": {}
      },
      "source": [
        "#the age of the game impacts its sales so I wanted to add it as a variable called 'days_since_release'\n",
        "current_time = datetime.datetime.now()\n",
        "prdf['days_since_release'] = (current_time - prdf['release_date']).dt.days"
      ],
      "execution_count": null,
      "outputs": []
    },
    {
      "cell_type": "markdown",
      "metadata": {
        "id": "TcqS5--NIlqT",
        "colab_type": "text"
      },
      "source": [
        "The owners column was originally contained strings showing a range for how many copies were sold. I converted this to a single number which is the game's sale rank. The dictionary below shows the conversion."
      ]
    },
    {
      "cell_type": "code",
      "metadata": {
        "id": "356xTr3YJko0",
        "colab_type": "code",
        "colab": {}
      },
      "source": [
        "sales_rank = np.flip(prdf['owners'].unique())\n",
        "rank_dict = {sales_rank[i]: i+1 for i in range(len(sales_rank))} \n",
        "\n",
        "prdf['sales rank'] = prdf['owners'].apply(lambda x: rank_dict[x])\n",
        "prdf = prdf.drop(columns=['owners'])"
      ],
      "execution_count": null,
      "outputs": []
    },
    {
      "cell_type": "code",
      "metadata": {
        "id": "4dp7hnBoHPBC",
        "colab_type": "code",
        "colab": {
          "base_uri": "https://localhost:8080/"
        },
        "outputId": "622c74e7-b4e6-44d2-ff42-3a525ad8f12c"
      },
      "source": [
        "rank_dict"
      ],
      "execution_count": null,
      "outputs": [
        {
          "output_type": "execute_result",
          "data": {
            "text/plain": [
              "{'0-20000': 1,\n",
              " '100000-200000': 4,\n",
              " '1000000-2000000': 9,\n",
              " '10000000-20000000': 11,\n",
              " '20000-50000': 3,\n",
              " '200000-500000': 5,\n",
              " '2000000-5000000': 8,\n",
              " '20000000-50000000': 6,\n",
              " '50000-100000': 2,\n",
              " '500000-1000000': 7,\n",
              " '5000000-10000000': 10}"
            ]
          },
          "metadata": {
            "tags": []
          },
          "execution_count": 9
        }
      ]
    },
    {
      "cell_type": "markdown",
      "metadata": {
        "id": "nJUjIhwOBGFb",
        "colab_type": "text"
      },
      "source": [
        "Note: Its okay to do a strict cutoff at the hourstobeat time for estimation because people who play faster often play the game multiple times (i.e. speedrunning) and this is not included in the website data but is in the Steam data. Add in the fact that some will do 'relaxed' playthroughs and this can be considered noise. While the data is skewed to the right the estimated completion numbers are if anything larger than the actual."
      ]
    },
    {
      "cell_type": "code",
      "metadata": {
        "id": "nLXUoSwq9-Wr",
        "colab_type": "code",
        "colab": {}
      },
      "source": [
        "prdf['completed'] = (prdf['playtime (hrs)'] > prdf['gameplay main (hrs)'])"
      ],
      "execution_count": null,
      "outputs": []
    },
    {
      "cell_type": "code",
      "metadata": {
        "id": "9vx_hLhklIO3",
        "colab_type": "code",
        "colab": {}
      },
      "source": [
        "#steam typically describes game rating via percent of postive ratings so this was added to the table\n",
        "prdf['percent_of_positve_ratings'] = (\n",
        "    prdf['positive_ratings']/(prdf['positive_ratings'] + prdf['negative_ratings'])\n",
        ")"
      ],
      "execution_count": null,
      "outputs": []
    },
    {
      "cell_type": "code",
      "metadata": {
        "id": "kbkje_OMlVXg",
        "colab_type": "code",
        "colab": {}
      },
      "source": [
        "#standardized the column names\n",
        "prdf = (\n",
        "    prdf\n",
        "    .rename(columns={\n",
        "        'gameplay main (hrs)': 'gameplay_main (hrs)',\n",
        "        'gameplay main extra (hrs)': 'gameplay_main_extra (hrs)',\n",
        "        'gameplay completionist (hrs)': 'gameplay_completionist (hrs)',\n",
        "        'average total playtime (hrs)': 'average_total_playtime (hrs)',\n",
        "        'median total playtime (hrs)': 'median_total_playtime (hrs)',\n",
        "        'sales rank': 'sales_rank'\n",
        "        }\n",
        "    )\n",
        ")"
      ],
      "execution_count": null,
      "outputs": []
    },
    {
      "cell_type": "code",
      "metadata": {
        "id": "I10rHEifCtHU",
        "colab_type": "code",
        "colab": {
          "base_uri": "https://localhost:8080/"
        },
        "outputId": "f66e0479-9695-48c0-cfe3-6b6cc303cc55"
      },
      "source": [
        "prdf.head()"
      ],
      "execution_count": null,
      "outputs": [
        {
          "output_type": "execute_result",
          "data": {
            "text/html": [
              "<div>\n",
              "<style scoped>\n",
              "    .dataframe tbody tr th:only-of-type {\n",
              "        vertical-align: middle;\n",
              "    }\n",
              "\n",
              "    .dataframe tbody tr th {\n",
              "        vertical-align: top;\n",
              "    }\n",
              "\n",
              "    .dataframe thead th {\n",
              "        text-align: right;\n",
              "    }\n",
              "</style>\n",
              "<table border=\"1\" class=\"dataframe\">\n",
              "  <thead>\n",
              "    <tr style=\"text-align: right;\">\n",
              "      <th></th>\n",
              "      <th>game_count</th>\n",
              "      <th>userId</th>\n",
              "      <th>appid</th>\n",
              "      <th>name</th>\n",
              "      <th>release_date</th>\n",
              "      <th>english</th>\n",
              "      <th>developer</th>\n",
              "      <th>publisher</th>\n",
              "      <th>platforms</th>\n",
              "      <th>required_age</th>\n",
              "      <th>categories</th>\n",
              "      <th>genres</th>\n",
              "      <th>steamspy_tags</th>\n",
              "      <th>achievements</th>\n",
              "      <th>positive_ratings</th>\n",
              "      <th>negative_ratings</th>\n",
              "      <th>price</th>\n",
              "      <th>gameplay_main (hrs)</th>\n",
              "      <th>gameplay_main_extra (hrs)</th>\n",
              "      <th>gameplay_completionist (hrs)</th>\n",
              "      <th>playtime (hrs)</th>\n",
              "      <th>average_total_playtime (hrs)</th>\n",
              "      <th>median_total_playtime (hrs)</th>\n",
              "      <th>days_since_release</th>\n",
              "      <th>sales_rank</th>\n",
              "      <th>completed</th>\n",
              "      <th>percent_of_positve_ratings</th>\n",
              "    </tr>\n",
              "  </thead>\n",
              "  <tbody>\n",
              "    <tr>\n",
              "      <th>0</th>\n",
              "      <td>88</td>\n",
              "      <td>76561198156664158</td>\n",
              "      <td>4000</td>\n",
              "      <td>Garry's Mod</td>\n",
              "      <td>2006-11-29</td>\n",
              "      <td>True</td>\n",
              "      <td>Facepunch Studios</td>\n",
              "      <td>Valve</td>\n",
              "      <td>windows;mac;linux</td>\n",
              "      <td>0</td>\n",
              "      <td>Single-player;Multi-player;Co-op;Cross-Platfor...</td>\n",
              "      <td>Indie;Simulation</td>\n",
              "      <td>Sandbox;Multiplayer;Funny</td>\n",
              "      <td>29</td>\n",
              "      <td>363721</td>\n",
              "      <td>16433</td>\n",
              "      <td>6.99</td>\n",
              "      <td>132.0</td>\n",
              "      <td>153.0</td>\n",
              "      <td>147.0</td>\n",
              "      <td>4.683333</td>\n",
              "      <td>207.033333</td>\n",
              "      <td>31.25</td>\n",
              "      <td>5022</td>\n",
              "      <td>11</td>\n",
              "      <td>False</td>\n",
              "      <td>0.956773</td>\n",
              "    </tr>\n",
              "    <tr>\n",
              "      <th>1</th>\n",
              "      <td>106</td>\n",
              "      <td>76561198043472122</td>\n",
              "      <td>4000</td>\n",
              "      <td>Garry's Mod</td>\n",
              "      <td>2006-11-29</td>\n",
              "      <td>True</td>\n",
              "      <td>Facepunch Studios</td>\n",
              "      <td>Valve</td>\n",
              "      <td>windows;mac;linux</td>\n",
              "      <td>0</td>\n",
              "      <td>Single-player;Multi-player;Co-op;Cross-Platfor...</td>\n",
              "      <td>Indie;Simulation</td>\n",
              "      <td>Sandbox;Multiplayer;Funny</td>\n",
              "      <td>29</td>\n",
              "      <td>363721</td>\n",
              "      <td>16433</td>\n",
              "      <td>6.99</td>\n",
              "      <td>132.0</td>\n",
              "      <td>153.0</td>\n",
              "      <td>147.0</td>\n",
              "      <td>168.183333</td>\n",
              "      <td>207.033333</td>\n",
              "      <td>31.25</td>\n",
              "      <td>5022</td>\n",
              "      <td>11</td>\n",
              "      <td>True</td>\n",
              "      <td>0.956773</td>\n",
              "    </tr>\n",
              "    <tr>\n",
              "      <th>2</th>\n",
              "      <td>211</td>\n",
              "      <td>76561198048353577</td>\n",
              "      <td>4000</td>\n",
              "      <td>Garry's Mod</td>\n",
              "      <td>2006-11-29</td>\n",
              "      <td>True</td>\n",
              "      <td>Facepunch Studios</td>\n",
              "      <td>Valve</td>\n",
              "      <td>windows;mac;linux</td>\n",
              "      <td>0</td>\n",
              "      <td>Single-player;Multi-player;Co-op;Cross-Platfor...</td>\n",
              "      <td>Indie;Simulation</td>\n",
              "      <td>Sandbox;Multiplayer;Funny</td>\n",
              "      <td>29</td>\n",
              "      <td>363721</td>\n",
              "      <td>16433</td>\n",
              "      <td>6.99</td>\n",
              "      <td>132.0</td>\n",
              "      <td>153.0</td>\n",
              "      <td>147.0</td>\n",
              "      <td>1924.200000</td>\n",
              "      <td>207.033333</td>\n",
              "      <td>31.25</td>\n",
              "      <td>5022</td>\n",
              "      <td>11</td>\n",
              "      <td>True</td>\n",
              "      <td>0.956773</td>\n",
              "    </tr>\n",
              "    <tr>\n",
              "      <th>3</th>\n",
              "      <td>185</td>\n",
              "      <td>76561198100701221</td>\n",
              "      <td>4000</td>\n",
              "      <td>Garry's Mod</td>\n",
              "      <td>2006-11-29</td>\n",
              "      <td>True</td>\n",
              "      <td>Facepunch Studios</td>\n",
              "      <td>Valve</td>\n",
              "      <td>windows;mac;linux</td>\n",
              "      <td>0</td>\n",
              "      <td>Single-player;Multi-player;Co-op;Cross-Platfor...</td>\n",
              "      <td>Indie;Simulation</td>\n",
              "      <td>Sandbox;Multiplayer;Funny</td>\n",
              "      <td>29</td>\n",
              "      <td>363721</td>\n",
              "      <td>16433</td>\n",
              "      <td>6.99</td>\n",
              "      <td>132.0</td>\n",
              "      <td>153.0</td>\n",
              "      <td>147.0</td>\n",
              "      <td>449.316667</td>\n",
              "      <td>207.033333</td>\n",
              "      <td>31.25</td>\n",
              "      <td>5022</td>\n",
              "      <td>11</td>\n",
              "      <td>True</td>\n",
              "      <td>0.956773</td>\n",
              "    </tr>\n",
              "    <tr>\n",
              "      <th>4</th>\n",
              "      <td>152</td>\n",
              "      <td>76561198078738103</td>\n",
              "      <td>4000</td>\n",
              "      <td>Garry's Mod</td>\n",
              "      <td>2006-11-29</td>\n",
              "      <td>True</td>\n",
              "      <td>Facepunch Studios</td>\n",
              "      <td>Valve</td>\n",
              "      <td>windows;mac;linux</td>\n",
              "      <td>0</td>\n",
              "      <td>Single-player;Multi-player;Co-op;Cross-Platfor...</td>\n",
              "      <td>Indie;Simulation</td>\n",
              "      <td>Sandbox;Multiplayer;Funny</td>\n",
              "      <td>29</td>\n",
              "      <td>363721</td>\n",
              "      <td>16433</td>\n",
              "      <td>6.99</td>\n",
              "      <td>132.0</td>\n",
              "      <td>153.0</td>\n",
              "      <td>147.0</td>\n",
              "      <td>11368.100000</td>\n",
              "      <td>207.033333</td>\n",
              "      <td>31.25</td>\n",
              "      <td>5022</td>\n",
              "      <td>11</td>\n",
              "      <td>True</td>\n",
              "      <td>0.956773</td>\n",
              "    </tr>\n",
              "  </tbody>\n",
              "</table>\n",
              "</div>"
            ],
            "text/plain": [
              "   game_count             userId  ...  completed percent_of_positve_ratings\n",
              "0          88  76561198156664158  ...      False                   0.956773\n",
              "1         106  76561198043472122  ...       True                   0.956773\n",
              "2         211  76561198048353577  ...       True                   0.956773\n",
              "3         185  76561198100701221  ...       True                   0.956773\n",
              "4         152  76561198078738103  ...       True                   0.956773\n",
              "\n",
              "[5 rows x 27 columns]"
            ]
          },
          "metadata": {
            "tags": []
          },
          "execution_count": 13
        }
      ]
    },
    {
      "cell_type": "markdown",
      "metadata": {
        "id": "iWpF0Fyma9pw",
        "colab_type": "text"
      },
      "source": [
        "# Exploration"
      ]
    },
    {
      "cell_type": "markdown",
      "metadata": {
        "id": "aixswrTMKv3d",
        "colab_type": "text"
      },
      "source": [
        "Started by looking at the official genre and categories on Steam for the games."
      ]
    },
    {
      "cell_type": "code",
      "metadata": {
        "id": "JLRrf4gRTsox",
        "colab_type": "code",
        "colab": {
          "base_uri": "https://localhost:8080/",
          "height": 85
        },
        "outputId": "a21d98a4-d9a2-4b44-c2a5-f6c1d6fda7ed"
      },
      "source": [
        "genres = prdf['genres'].str.get_dummies(sep=';').columns\n",
        "genredf = prdf.merge(prdf['genres'].str.get_dummies(sep=';'), how='outer', left_index=True, right_index=True)\n",
        "\n",
        "genres"
      ],
      "execution_count": null,
      "outputs": [
        {
          "output_type": "execute_result",
          "data": {
            "text/plain": [
              "Index(['Action', 'Adventure', 'Casual', 'Early Access', 'Free to Play', 'Gore',\n",
              "       'Indie', 'Massively Multiplayer', 'Nudity', 'RPG', 'Racing',\n",
              "       'Sexual Content', 'Simulation', 'Sports', 'Strategy', 'Violent'],\n",
              "      dtype='object')"
            ]
          },
          "metadata": {
            "tags": []
          },
          "execution_count": 14
        }
      ]
    },
    {
      "cell_type": "code",
      "metadata": {
        "id": "BWmSGltCWyEn",
        "colab_type": "code",
        "colab": {}
      },
      "source": [
        "genre_stats = {'genre': genres, 'mean time': [], 'median time': [], 'completion (%)': []}\n",
        "\n",
        "for i in range(len(genres)):\n",
        "  genre_stats['mean time'].append(genredf[genredf[genres[i]] == 1]['playtime (hrs)'].mean())\n",
        "  genre_stats['median time'].append(genredf[genredf[genres[i]] == 1]['playtime (hrs)'].median())\n",
        "  genre_stats['completion (%)'].append(genredf[genredf[genres[i]] == 1]['completed'].mean())"
      ],
      "execution_count": null,
      "outputs": []
    },
    {
      "cell_type": "markdown",
      "metadata": {
        "id": "Z7sdj750hKB5",
        "colab_type": "text"
      },
      "source": [
        "When focusing on the 'completion (%)' most of the genres don't have huge differences in game completion. The biggested outliers are Early Access* and Free to Play. This suggests that 'completion(%)' captrures a mix of game enjoyment and investment. Early Access games will have updates that people are invested in, so players are more likely to keep up with with game (as there is typically an online community) and finish it espcially if its short. Free to Play games are often downloaded because of the price rather than actual interest, so there is less drive to play and finish the game.\n",
        "\n",
        "Games that contain violence, gore, nudity, and/or sexual content also showed lower completion rates suggesting a possible correlation between player age/game rating and completion.\n",
        "\n",
        "*The completion time for Early access will change over time however the howlongtobeat times and player playtimes were taken at the same time so this correlation is not due to the game being updated"
      ]
    },
    {
      "cell_type": "code",
      "metadata": {
        "id": "m5_lexdqT_dj",
        "colab_type": "code",
        "colab": {
          "base_uri": "https://localhost:8080/",
          "height": 545
        },
        "outputId": "5eeeb838-95aa-498f-f8e7-bbc40b9f1fd7"
      },
      "source": [
        "pd.DataFrame(genre_stats).sort_values('completion (%)', ascending=False)"
      ],
      "execution_count": null,
      "outputs": [
        {
          "output_type": "execute_result",
          "data": {
            "text/html": [
              "<div>\n",
              "<style scoped>\n",
              "    .dataframe tbody tr th:only-of-type {\n",
              "        vertical-align: middle;\n",
              "    }\n",
              "\n",
              "    .dataframe tbody tr th {\n",
              "        vertical-align: top;\n",
              "    }\n",
              "\n",
              "    .dataframe thead th {\n",
              "        text-align: right;\n",
              "    }\n",
              "</style>\n",
              "<table border=\"1\" class=\"dataframe\">\n",
              "  <thead>\n",
              "    <tr style=\"text-align: right;\">\n",
              "      <th></th>\n",
              "      <th>genre</th>\n",
              "      <th>mean time</th>\n",
              "      <th>median time</th>\n",
              "      <th>completion (%)</th>\n",
              "    </tr>\n",
              "  </thead>\n",
              "  <tbody>\n",
              "    <tr>\n",
              "      <th>3</th>\n",
              "      <td>Early Access</td>\n",
              "      <td>25.197989</td>\n",
              "      <td>5.800000</td>\n",
              "      <td>0.367980</td>\n",
              "    </tr>\n",
              "    <tr>\n",
              "      <th>12</th>\n",
              "      <td>Simulation</td>\n",
              "      <td>38.865382</td>\n",
              "      <td>2.266667</td>\n",
              "      <td>0.239653</td>\n",
              "    </tr>\n",
              "    <tr>\n",
              "      <th>7</th>\n",
              "      <td>Massively Multiplayer</td>\n",
              "      <td>66.901437</td>\n",
              "      <td>6.483333</td>\n",
              "      <td>0.219741</td>\n",
              "    </tr>\n",
              "    <tr>\n",
              "      <th>0</th>\n",
              "      <td>Action</td>\n",
              "      <td>17.044732</td>\n",
              "      <td>0.733333</td>\n",
              "      <td>0.212010</td>\n",
              "    </tr>\n",
              "    <tr>\n",
              "      <th>9</th>\n",
              "      <td>RPG</td>\n",
              "      <td>27.025190</td>\n",
              "      <td>1.466667</td>\n",
              "      <td>0.211103</td>\n",
              "    </tr>\n",
              "    <tr>\n",
              "      <th>2</th>\n",
              "      <td>Casual</td>\n",
              "      <td>7.504490</td>\n",
              "      <td>0.300000</td>\n",
              "      <td>0.193293</td>\n",
              "    </tr>\n",
              "    <tr>\n",
              "      <th>14</th>\n",
              "      <td>Strategy</td>\n",
              "      <td>19.336055</td>\n",
              "      <td>0.750000</td>\n",
              "      <td>0.191170</td>\n",
              "    </tr>\n",
              "    <tr>\n",
              "      <th>6</th>\n",
              "      <td>Indie</td>\n",
              "      <td>16.215413</td>\n",
              "      <td>0.583333</td>\n",
              "      <td>0.190906</td>\n",
              "    </tr>\n",
              "    <tr>\n",
              "      <th>1</th>\n",
              "      <td>Adventure</td>\n",
              "      <td>14.481744</td>\n",
              "      <td>0.516667</td>\n",
              "      <td>0.186582</td>\n",
              "    </tr>\n",
              "    <tr>\n",
              "      <th>13</th>\n",
              "      <td>Sports</td>\n",
              "      <td>10.347664</td>\n",
              "      <td>0.600000</td>\n",
              "      <td>0.183354</td>\n",
              "    </tr>\n",
              "    <tr>\n",
              "      <th>8</th>\n",
              "      <td>Nudity</td>\n",
              "      <td>12.508573</td>\n",
              "      <td>0.233333</td>\n",
              "      <td>0.159278</td>\n",
              "    </tr>\n",
              "    <tr>\n",
              "      <th>10</th>\n",
              "      <td>Racing</td>\n",
              "      <td>6.825580</td>\n",
              "      <td>0.333333</td>\n",
              "      <td>0.156379</td>\n",
              "    </tr>\n",
              "    <tr>\n",
              "      <th>5</th>\n",
              "      <td>Gore</td>\n",
              "      <td>13.030623</td>\n",
              "      <td>0.566667</td>\n",
              "      <td>0.154034</td>\n",
              "    </tr>\n",
              "    <tr>\n",
              "      <th>15</th>\n",
              "      <td>Violent</td>\n",
              "      <td>13.228742</td>\n",
              "      <td>0.983333</td>\n",
              "      <td>0.153226</td>\n",
              "    </tr>\n",
              "    <tr>\n",
              "      <th>11</th>\n",
              "      <td>Sexual Content</td>\n",
              "      <td>4.428199</td>\n",
              "      <td>0.000000</td>\n",
              "      <td>0.151496</td>\n",
              "    </tr>\n",
              "    <tr>\n",
              "      <th>4</th>\n",
              "      <td>Free to Play</td>\n",
              "      <td>14.377887</td>\n",
              "      <td>0.650000</td>\n",
              "      <td>0.126700</td>\n",
              "    </tr>\n",
              "  </tbody>\n",
              "</table>\n",
              "</div>"
            ],
            "text/plain": [
              "                    genre  mean time  median time  completion (%)\n",
              "3            Early Access  25.197989     5.800000        0.367980\n",
              "12             Simulation  38.865382     2.266667        0.239653\n",
              "7   Massively Multiplayer  66.901437     6.483333        0.219741\n",
              "0                  Action  17.044732     0.733333        0.212010\n",
              "9                     RPG  27.025190     1.466667        0.211103\n",
              "2                  Casual   7.504490     0.300000        0.193293\n",
              "14               Strategy  19.336055     0.750000        0.191170\n",
              "6                   Indie  16.215413     0.583333        0.190906\n",
              "1               Adventure  14.481744     0.516667        0.186582\n",
              "13                 Sports  10.347664     0.600000        0.183354\n",
              "8                  Nudity  12.508573     0.233333        0.159278\n",
              "10                 Racing   6.825580     0.333333        0.156379\n",
              "5                    Gore  13.030623     0.566667        0.154034\n",
              "15                Violent  13.228742     0.983333        0.153226\n",
              "11         Sexual Content   4.428199     0.000000        0.151496\n",
              "4            Free to Play  14.377887     0.650000        0.126700"
            ]
          },
          "metadata": {
            "tags": []
          },
          "execution_count": 16
        }
      ]
    },
    {
      "cell_type": "code",
      "metadata": {
        "id": "gWVnz-0qUX3V",
        "colab_type": "code",
        "colab": {
          "base_uri": "https://localhost:8080/",
          "height": 187
        },
        "outputId": "0a837244-7d49-4020-a128-54ae8133eb59"
      },
      "source": [
        "categories = prdf['categories'].str.get_dummies(sep=';').columns\n",
        "categoriedf = prdf.merge(prdf['categories'].str.get_dummies(sep=';'), how='outer', left_index=True, right_index=True)\n",
        "categories"
      ],
      "execution_count": null,
      "outputs": [
        {
          "output_type": "execute_result",
          "data": {
            "text/plain": [
              "Index(['Captions available', 'Co-op', 'Commentary available',\n",
              "       'Cross-Platform Multiplayer', 'Full controller support',\n",
              "       'In-App Purchases', 'Includes Source SDK', 'Includes level editor',\n",
              "       'Local Co-op', 'Local Multi-Player', 'MMO', 'Multi-player',\n",
              "       'Online Co-op', 'Online Multi-Player', 'Partial Controller Support',\n",
              "       'Shared/Split Screen', 'Single-player', 'Stats', 'Steam Achievements',\n",
              "       'Steam Cloud', 'Steam Leaderboards', 'Steam Trading Cards',\n",
              "       'Steam Turn Notifications', 'Steam Workshop', 'SteamVR Collectibles',\n",
              "       'VR Support', 'Valve Anti-Cheat enabled'],\n",
              "      dtype='object')"
            ]
          },
          "metadata": {
            "tags": []
          },
          "execution_count": 17
        }
      ]
    },
    {
      "cell_type": "code",
      "metadata": {
        "id": "53tHU8rldh2e",
        "colab_type": "code",
        "colab": {}
      },
      "source": [
        "category_stats = {'category': categories, 'mean time': [], 'median time': [], 'completion (%)': []}\n",
        "\n",
        "for i in range(len(categories)):\n",
        "  category_stats['mean time'].append(categoriedf[categoriedf[categories[i]] == 1]['playtime (hrs)'].mean())\n",
        "  category_stats['median time'].append(categoriedf[categoriedf[categories[i]] == 1]['playtime (hrs)'].median())\n",
        "  category_stats['completion (%)'].append(categoriedf[categoriedf[categories[i]] == 1]['completed'].mean())"
      ],
      "execution_count": null,
      "outputs": []
    },
    {
      "cell_type": "markdown",
      "metadata": {
        "id": "0vItRnMHtycl",
        "colab_type": "text"
      },
      "source": [
        "For categories the two main outliers were 'Includes Source SDK' and 'Steam Turn Notifications'. 'Includes Source SDK' is an extremely rare category nearly only used by Valve, the company that created Steam and that has made very popular games. These games are highly rated and old which means players may have had more desire and time to complete these games. 'Steam Turn Notifications' is a feature that allows players of boardgame style games to close the game and be notified when its their turn. Since playtime tracks the time the game is open these will inherently limit the growth of this statistic. Also howlongtobeat.com may include this skipped time in its calculations.\n",
        "\n",
        "Suprsingly multiplayer games had less of an effect on playtime than expected. While generally there was a postive correlation it was nothing as drastic as initially anticipated. However, as expected games with mods lead to higher playtimes."
      ]
    },
    {
      "cell_type": "code",
      "metadata": {
        "id": "5VcCRyZyfwjc",
        "colab_type": "code",
        "colab": {
          "base_uri": "https://localhost:8080/",
          "height": 886
        },
        "outputId": "77a37e21-63a7-4ce7-f2ef-29d34d132820"
      },
      "source": [
        "pd.DataFrame(category_stats).sort_values('completion (%)', ascending=False)"
      ],
      "execution_count": null,
      "outputs": [
        {
          "output_type": "execute_result",
          "data": {
            "text/html": [
              "<div>\n",
              "<style scoped>\n",
              "    .dataframe tbody tr th:only-of-type {\n",
              "        vertical-align: middle;\n",
              "    }\n",
              "\n",
              "    .dataframe tbody tr th {\n",
              "        vertical-align: top;\n",
              "    }\n",
              "\n",
              "    .dataframe thead th {\n",
              "        text-align: right;\n",
              "    }\n",
              "</style>\n",
              "<table border=\"1\" class=\"dataframe\">\n",
              "  <thead>\n",
              "    <tr style=\"text-align: right;\">\n",
              "      <th></th>\n",
              "      <th>category</th>\n",
              "      <th>mean time</th>\n",
              "      <th>median time</th>\n",
              "      <th>completion (%)</th>\n",
              "    </tr>\n",
              "  </thead>\n",
              "  <tbody>\n",
              "    <tr>\n",
              "      <th>6</th>\n",
              "      <td>Includes Source SDK</td>\n",
              "      <td>22.152431</td>\n",
              "      <td>2.633333</td>\n",
              "      <td>0.357143</td>\n",
              "    </tr>\n",
              "    <tr>\n",
              "      <th>24</th>\n",
              "      <td>SteamVR Collectibles</td>\n",
              "      <td>3.617370</td>\n",
              "      <td>1.266667</td>\n",
              "      <td>0.311499</td>\n",
              "    </tr>\n",
              "    <tr>\n",
              "      <th>23</th>\n",
              "      <td>Steam Workshop</td>\n",
              "      <td>47.613925</td>\n",
              "      <td>4.366667</td>\n",
              "      <td>0.306133</td>\n",
              "    </tr>\n",
              "    <tr>\n",
              "      <th>2</th>\n",
              "      <td>Commentary available</td>\n",
              "      <td>16.789300</td>\n",
              "      <td>0.966667</td>\n",
              "      <td>0.299489</td>\n",
              "    </tr>\n",
              "    <tr>\n",
              "      <th>26</th>\n",
              "      <td>Valve Anti-Cheat enabled</td>\n",
              "      <td>66.926918</td>\n",
              "      <td>3.866667</td>\n",
              "      <td>0.290650</td>\n",
              "    </tr>\n",
              "    <tr>\n",
              "      <th>1</th>\n",
              "      <td>Co-op</td>\n",
              "      <td>42.932965</td>\n",
              "      <td>3.616667</td>\n",
              "      <td>0.287362</td>\n",
              "    </tr>\n",
              "    <tr>\n",
              "      <th>12</th>\n",
              "      <td>Online Co-op</td>\n",
              "      <td>47.179770</td>\n",
              "      <td>4.233333</td>\n",
              "      <td>0.280222</td>\n",
              "    </tr>\n",
              "    <tr>\n",
              "      <th>7</th>\n",
              "      <td>Includes level editor</td>\n",
              "      <td>43.940256</td>\n",
              "      <td>2.966667</td>\n",
              "      <td>0.279386</td>\n",
              "    </tr>\n",
              "    <tr>\n",
              "      <th>0</th>\n",
              "      <td>Captions available</td>\n",
              "      <td>46.600379</td>\n",
              "      <td>1.850000</td>\n",
              "      <td>0.276953</td>\n",
              "    </tr>\n",
              "    <tr>\n",
              "      <th>13</th>\n",
              "      <td>Online Multi-Player</td>\n",
              "      <td>40.514244</td>\n",
              "      <td>3.500000</td>\n",
              "      <td>0.274818</td>\n",
              "    </tr>\n",
              "    <tr>\n",
              "      <th>17</th>\n",
              "      <td>Stats</td>\n",
              "      <td>14.667894</td>\n",
              "      <td>1.250000</td>\n",
              "      <td>0.255074</td>\n",
              "    </tr>\n",
              "    <tr>\n",
              "      <th>3</th>\n",
              "      <td>Cross-Platform Multiplayer</td>\n",
              "      <td>53.254433</td>\n",
              "      <td>3.183333</td>\n",
              "      <td>0.252829</td>\n",
              "    </tr>\n",
              "    <tr>\n",
              "      <th>11</th>\n",
              "      <td>Multi-player</td>\n",
              "      <td>35.874359</td>\n",
              "      <td>1.733333</td>\n",
              "      <td>0.234408</td>\n",
              "    </tr>\n",
              "    <tr>\n",
              "      <th>14</th>\n",
              "      <td>Partial Controller Support</td>\n",
              "      <td>20.998706</td>\n",
              "      <td>1.100000</td>\n",
              "      <td>0.231026</td>\n",
              "    </tr>\n",
              "    <tr>\n",
              "      <th>9</th>\n",
              "      <td>Local Multi-Player</td>\n",
              "      <td>37.819084</td>\n",
              "      <td>1.166667</td>\n",
              "      <td>0.226442</td>\n",
              "    </tr>\n",
              "    <tr>\n",
              "      <th>18</th>\n",
              "      <td>Steam Achievements</td>\n",
              "      <td>21.346751</td>\n",
              "      <td>1.100000</td>\n",
              "      <td>0.223255</td>\n",
              "    </tr>\n",
              "    <tr>\n",
              "      <th>4</th>\n",
              "      <td>Full controller support</td>\n",
              "      <td>17.067197</td>\n",
              "      <td>1.016667</td>\n",
              "      <td>0.222154</td>\n",
              "    </tr>\n",
              "    <tr>\n",
              "      <th>5</th>\n",
              "      <td>In-App Purchases</td>\n",
              "      <td>29.783394</td>\n",
              "      <td>3.783333</td>\n",
              "      <td>0.222136</td>\n",
              "    </tr>\n",
              "    <tr>\n",
              "      <th>21</th>\n",
              "      <td>Steam Trading Cards</td>\n",
              "      <td>20.846206</td>\n",
              "      <td>1.233333</td>\n",
              "      <td>0.221389</td>\n",
              "    </tr>\n",
              "    <tr>\n",
              "      <th>19</th>\n",
              "      <td>Steam Cloud</td>\n",
              "      <td>21.008526</td>\n",
              "      <td>1.050000</td>\n",
              "      <td>0.218655</td>\n",
              "    </tr>\n",
              "    <tr>\n",
              "      <th>15</th>\n",
              "      <td>Shared/Split Screen</td>\n",
              "      <td>9.160278</td>\n",
              "      <td>0.716667</td>\n",
              "      <td>0.215348</td>\n",
              "    </tr>\n",
              "    <tr>\n",
              "      <th>10</th>\n",
              "      <td>MMO</td>\n",
              "      <td>77.197793</td>\n",
              "      <td>7.883333</td>\n",
              "      <td>0.207821</td>\n",
              "    </tr>\n",
              "    <tr>\n",
              "      <th>16</th>\n",
              "      <td>Single-player</td>\n",
              "      <td>17.960531</td>\n",
              "      <td>0.600000</td>\n",
              "      <td>0.200072</td>\n",
              "    </tr>\n",
              "    <tr>\n",
              "      <th>20</th>\n",
              "      <td>Steam Leaderboards</td>\n",
              "      <td>12.296509</td>\n",
              "      <td>0.566667</td>\n",
              "      <td>0.193566</td>\n",
              "    </tr>\n",
              "    <tr>\n",
              "      <th>8</th>\n",
              "      <td>Local Co-op</td>\n",
              "      <td>29.546144</td>\n",
              "      <td>0.916667</td>\n",
              "      <td>0.191248</td>\n",
              "    </tr>\n",
              "    <tr>\n",
              "      <th>25</th>\n",
              "      <td>VR Support</td>\n",
              "      <td>38.785412</td>\n",
              "      <td>3.658333</td>\n",
              "      <td>0.188909</td>\n",
              "    </tr>\n",
              "    <tr>\n",
              "      <th>22</th>\n",
              "      <td>Steam Turn Notifications</td>\n",
              "      <td>8.123625</td>\n",
              "      <td>0.025000</td>\n",
              "      <td>0.072165</td>\n",
              "    </tr>\n",
              "  </tbody>\n",
              "</table>\n",
              "</div>"
            ],
            "text/plain": [
              "                      category  mean time  median time  completion (%)\n",
              "6          Includes Source SDK  22.152431     2.633333        0.357143\n",
              "24        SteamVR Collectibles   3.617370     1.266667        0.311499\n",
              "23              Steam Workshop  47.613925     4.366667        0.306133\n",
              "2         Commentary available  16.789300     0.966667        0.299489\n",
              "26    Valve Anti-Cheat enabled  66.926918     3.866667        0.290650\n",
              "1                        Co-op  42.932965     3.616667        0.287362\n",
              "12                Online Co-op  47.179770     4.233333        0.280222\n",
              "7        Includes level editor  43.940256     2.966667        0.279386\n",
              "0           Captions available  46.600379     1.850000        0.276953\n",
              "13         Online Multi-Player  40.514244     3.500000        0.274818\n",
              "17                       Stats  14.667894     1.250000        0.255074\n",
              "3   Cross-Platform Multiplayer  53.254433     3.183333        0.252829\n",
              "11                Multi-player  35.874359     1.733333        0.234408\n",
              "14  Partial Controller Support  20.998706     1.100000        0.231026\n",
              "9           Local Multi-Player  37.819084     1.166667        0.226442\n",
              "18          Steam Achievements  21.346751     1.100000        0.223255\n",
              "4      Full controller support  17.067197     1.016667        0.222154\n",
              "5             In-App Purchases  29.783394     3.783333        0.222136\n",
              "21         Steam Trading Cards  20.846206     1.233333        0.221389\n",
              "19                 Steam Cloud  21.008526     1.050000        0.218655\n",
              "15         Shared/Split Screen   9.160278     0.716667        0.215348\n",
              "10                         MMO  77.197793     7.883333        0.207821\n",
              "16               Single-player  17.960531     0.600000        0.200072\n",
              "20          Steam Leaderboards  12.296509     0.566667        0.193566\n",
              "8                  Local Co-op  29.546144     0.916667        0.191248\n",
              "25                  VR Support  38.785412     3.658333        0.188909\n",
              "22    Steam Turn Notifications   8.123625     0.025000        0.072165"
            ]
          },
          "metadata": {
            "tags": []
          },
          "execution_count": 19
        }
      ]
    },
    {
      "cell_type": "code",
      "metadata": {
        "id": "4gNE1TvfkmPS",
        "colab_type": "code",
        "colab": {
          "base_uri": "https://localhost:8080/",
          "height": 68
        },
        "outputId": "55ddfe38-5a55-4d09-f4dc-4cafe3ef8039"
      },
      "source": [
        "# All games listed except 'The Forgotten Ones' were created by Valve\n",
        "categoriedf[categoriedf['Includes Source SDK'] == 1]['name'].unique()"
      ],
      "execution_count": null,
      "outputs": [
        {
          "output_type": "execute_result",
          "data": {
            "text/plain": [
              "array(['Portal', 'Half-Life 2', 'Half-Life 2: Episode One',\n",
              "       'Half-Life 2: Episode Two', 'Left 4 Dead 2', 'Left 4 Dead',\n",
              "       'Black Mesa', 'The Forgotten Ones'], dtype=object)"
            ]
          },
          "metadata": {
            "tags": []
          },
          "execution_count": 20
        }
      ]
    },
    {
      "cell_type": "markdown",
      "metadata": {
        "id": "BdzcDt-5MxJA",
        "colab_type": "text"
      },
      "source": [
        "It seems that more players start multiplayer games compared to singleplayer ones, so it may be that having others to play with motivates players."
      ]
    },
    {
      "cell_type": "code",
      "metadata": {
        "id": "UB3vpl8mJlKZ",
        "colab_type": "code",
        "colab": {
          "base_uri": "https://localhost:8080/",
          "height": 68
        },
        "outputId": "710f6943-bed4-4f09-e747-12723b6fbc91"
      },
      "source": [
        "num_unplayed = lambda x: (x[x == 0].size)/(x.size)\n",
        "m_unplayed = categoriedf[categoriedf['Multi-player'] == 1].groupby('name').agg({'playtime (hrs)': num_unplayed}).mean()[0]\n",
        "s_unplayed = categoriedf[categoriedf['Multi-player'] == 0].groupby('name').agg({'playtime (hrs)': num_unplayed}).mean()[0]\n",
        "all_unplayed = categoriedf.groupby('name').agg({'playtime (hrs)': num_unplayed}).mean()[0]\n",
        "\n",
        "# Average proportion of players that never start\n",
        "print('Multi-player:' +  str(m_unplayed))\n",
        "print('Single-player:' +  str(s_unplayed))\n",
        "print('All types:' +  str(all_unplayed))"
      ],
      "execution_count": null,
      "outputs": [
        {
          "output_type": "stream",
          "text": [
            "Multi-player:0.4377528321062527\n",
            "Single-player:0.5214661864559013\n",
            "All types:0.5093155084021761\n"
          ],
          "name": "stdout"
        }
      ]
    },
    {
      "cell_type": "markdown",
      "metadata": {
        "id": "w5MsCPPdO5gs",
        "colab_type": "text"
      },
      "source": [
        "From the correlations it seems that the biggestes factors are popularity and perceived quality (based on ratings). More specfic factors of game completion can be seen in how they affect sales rank and ratings."
      ]
    },
    {
      "cell_type": "code",
      "metadata": {
        "id": "1DmSYc-wKt6x",
        "colab_type": "code",
        "colab": {
          "base_uri": "https://localhost:8080/",
          "height": 196
        },
        "outputId": "142d7309-f554-400a-b788-9b66ed8bb05f"
      },
      "source": [
        "full_prdf = genredf.merge(categoriedf.iloc[:, 26:53], left_index=True, right_index=True)\n",
        "full_prdf = full_prdf.drop(columns=['percent_of_positve_ratings_y'])\n",
        "full_prdf = full_prdf.rename(columns={'percent_of_positve_ratings_x': 'percent_of_positve_ratings'})\n",
        "\n",
        "full_prdf.corr()[16:19]#['completed'].abs().sort_values()"
      ],
      "execution_count": null,
      "outputs": [
        {
          "output_type": "execute_result",
          "data": {
            "text/html": [
              "<div>\n",
              "<style scoped>\n",
              "    .dataframe tbody tr th:only-of-type {\n",
              "        vertical-align: middle;\n",
              "    }\n",
              "\n",
              "    .dataframe tbody tr th {\n",
              "        vertical-align: top;\n",
              "    }\n",
              "\n",
              "    .dataframe thead th {\n",
              "        text-align: right;\n",
              "    }\n",
              "</style>\n",
              "<table border=\"1\" class=\"dataframe\">\n",
              "  <thead>\n",
              "    <tr style=\"text-align: right;\">\n",
              "      <th></th>\n",
              "      <th>game_count</th>\n",
              "      <th>userId</th>\n",
              "      <th>appid</th>\n",
              "      <th>english</th>\n",
              "      <th>required_age</th>\n",
              "      <th>achievements</th>\n",
              "      <th>positive_ratings</th>\n",
              "      <th>negative_ratings</th>\n",
              "      <th>price</th>\n",
              "      <th>gameplay_main (hrs)</th>\n",
              "      <th>gameplay_main_extra (hrs)</th>\n",
              "      <th>gameplay_completionist (hrs)</th>\n",
              "      <th>playtime (hrs)</th>\n",
              "      <th>average_total_playtime (hrs)</th>\n",
              "      <th>median_total_playtime (hrs)</th>\n",
              "      <th>days_since_release</th>\n",
              "      <th>sales_rank</th>\n",
              "      <th>completed</th>\n",
              "      <th>percent_of_positve_ratings</th>\n",
              "      <th>Action</th>\n",
              "      <th>Adventure</th>\n",
              "      <th>Casual</th>\n",
              "      <th>Early Access</th>\n",
              "      <th>Free to Play</th>\n",
              "      <th>Gore</th>\n",
              "      <th>Indie</th>\n",
              "      <th>Massively Multiplayer</th>\n",
              "      <th>Nudity</th>\n",
              "      <th>RPG</th>\n",
              "      <th>Racing</th>\n",
              "      <th>Sexual Content</th>\n",
              "      <th>Simulation</th>\n",
              "      <th>Sports</th>\n",
              "      <th>Strategy</th>\n",
              "      <th>Violent</th>\n",
              "      <th>Captions available</th>\n",
              "      <th>Co-op</th>\n",
              "      <th>Commentary available</th>\n",
              "      <th>Cross-Platform Multiplayer</th>\n",
              "      <th>Full controller support</th>\n",
              "      <th>In-App Purchases</th>\n",
              "      <th>Includes Source SDK</th>\n",
              "      <th>Includes level editor</th>\n",
              "      <th>Local Co-op</th>\n",
              "      <th>Local Multi-Player</th>\n",
              "      <th>MMO</th>\n",
              "      <th>Multi-player</th>\n",
              "      <th>Online Co-op</th>\n",
              "      <th>Online Multi-Player</th>\n",
              "      <th>Partial Controller Support</th>\n",
              "      <th>Shared/Split Screen</th>\n",
              "      <th>Single-player</th>\n",
              "      <th>Stats</th>\n",
              "      <th>Steam Achievements</th>\n",
              "      <th>Steam Cloud</th>\n",
              "      <th>Steam Leaderboards</th>\n",
              "      <th>Steam Trading Cards</th>\n",
              "      <th>Steam Turn Notifications</th>\n",
              "      <th>Steam Workshop</th>\n",
              "      <th>SteamVR Collectibles</th>\n",
              "      <th>VR Support</th>\n",
              "    </tr>\n",
              "  </thead>\n",
              "  <tbody>\n",
              "    <tr>\n",
              "      <th>sales_rank</th>\n",
              "      <td>-0.289494</td>\n",
              "      <td>0.115095</td>\n",
              "      <td>-0.474992</td>\n",
              "      <td>0.014429</td>\n",
              "      <td>0.202710</td>\n",
              "      <td>0.078308</td>\n",
              "      <td>0.455321</td>\n",
              "      <td>0.268946</td>\n",
              "      <td>0.109501</td>\n",
              "      <td>0.287958</td>\n",
              "      <td>0.336531</td>\n",
              "      <td>0.310318</td>\n",
              "      <td>0.133454</td>\n",
              "      <td>0.330733</td>\n",
              "      <td>0.169030</td>\n",
              "      <td>0.397014</td>\n",
              "      <td>1.000000</td>\n",
              "      <td>0.170466</td>\n",
              "      <td>0.263122</td>\n",
              "      <td>0.196313</td>\n",
              "      <td>-0.145261</td>\n",
              "      <td>-0.224891</td>\n",
              "      <td>0.008110</td>\n",
              "      <td>0.063573</td>\n",
              "      <td>-0.029694</td>\n",
              "      <td>-0.285002</td>\n",
              "      <td>0.123862</td>\n",
              "      <td>-0.045670</td>\n",
              "      <td>0.045312</td>\n",
              "      <td>-0.021927</td>\n",
              "      <td>-0.053468</td>\n",
              "      <td>0.068031</td>\n",
              "      <td>-0.020131</td>\n",
              "      <td>-0.006218</td>\n",
              "      <td>-0.042981</td>\n",
              "      <td>0.215003</td>\n",
              "      <td>0.277150</td>\n",
              "      <td>0.264318</td>\n",
              "      <td>0.144238</td>\n",
              "      <td>0.023017</td>\n",
              "      <td>0.041124</td>\n",
              "      <td>0.264455</td>\n",
              "      <td>0.169272</td>\n",
              "      <td>-0.046823</td>\n",
              "      <td>-0.023860</td>\n",
              "      <td>0.129810</td>\n",
              "      <td>0.264450</td>\n",
              "      <td>0.051831</td>\n",
              "      <td>0.081178</td>\n",
              "      <td>0.071592</td>\n",
              "      <td>-0.053799</td>\n",
              "      <td>NaN</td>\n",
              "      <td>0.070135</td>\n",
              "      <td>-0.027413</td>\n",
              "      <td>0.047489</td>\n",
              "      <td>-0.091972</td>\n",
              "      <td>-0.039648</td>\n",
              "      <td>-0.037845</td>\n",
              "      <td>0.228201</td>\n",
              "      <td>-0.048006</td>\n",
              "      <td>-0.017445</td>\n",
              "    </tr>\n",
              "    <tr>\n",
              "      <th>completed</th>\n",
              "      <td>-0.098960</td>\n",
              "      <td>0.073529</td>\n",
              "      <td>-0.019264</td>\n",
              "      <td>0.003581</td>\n",
              "      <td>0.097074</td>\n",
              "      <td>0.079698</td>\n",
              "      <td>0.221450</td>\n",
              "      <td>0.153817</td>\n",
              "      <td>0.078207</td>\n",
              "      <td>0.015343</td>\n",
              "      <td>0.085109</td>\n",
              "      <td>0.105300</td>\n",
              "      <td>0.266847</td>\n",
              "      <td>0.177728</td>\n",
              "      <td>0.135222</td>\n",
              "      <td>-0.030429</td>\n",
              "      <td>0.170466</td>\n",
              "      <td>1.000000</td>\n",
              "      <td>0.117973</td>\n",
              "      <td>0.036969</td>\n",
              "      <td>-0.026194</td>\n",
              "      <td>-0.006294</td>\n",
              "      <td>0.051263</td>\n",
              "      <td>-0.038325</td>\n",
              "      <td>-0.012990</td>\n",
              "      <td>-0.023537</td>\n",
              "      <td>0.005298</td>\n",
              "      <td>-0.011468</td>\n",
              "      <td>0.014667</td>\n",
              "      <td>-0.017459</td>\n",
              "      <td>-0.010941</td>\n",
              "      <td>0.044180</td>\n",
              "      <td>-0.005393</td>\n",
              "      <td>-0.011221</td>\n",
              "      <td>-0.014881</td>\n",
              "      <td>0.065088</td>\n",
              "      <td>0.117823</td>\n",
              "      <td>0.057127</td>\n",
              "      <td>0.039415</td>\n",
              "      <td>0.048604</td>\n",
              "      <td>0.007834</td>\n",
              "      <td>0.071730</td>\n",
              "      <td>0.079733</td>\n",
              "      <td>-0.004381</td>\n",
              "      <td>0.011983</td>\n",
              "      <td>0.001864</td>\n",
              "      <td>0.057791</td>\n",
              "      <td>0.051809</td>\n",
              "      <td>0.058300</td>\n",
              "      <td>0.037156</td>\n",
              "      <td>0.012894</td>\n",
              "      <td>NaN</td>\n",
              "      <td>0.050216</td>\n",
              "      <td>0.100692</td>\n",
              "      <td>0.055823</td>\n",
              "      <td>-0.008095</td>\n",
              "      <td>0.067143</td>\n",
              "      <td>-0.010088</td>\n",
              "      <td>0.124978</td>\n",
              "      <td>0.016559</td>\n",
              "      <td>-0.004212</td>\n",
              "    </tr>\n",
              "    <tr>\n",
              "      <th>percent_of_positve_ratings</th>\n",
              "      <td>-0.128416</td>\n",
              "      <td>0.062332</td>\n",
              "      <td>-0.084573</td>\n",
              "      <td>0.012768</td>\n",
              "      <td>-0.057330</td>\n",
              "      <td>0.040810</td>\n",
              "      <td>0.217030</td>\n",
              "      <td>-0.147436</td>\n",
              "      <td>-0.134721</td>\n",
              "      <td>0.037519</td>\n",
              "      <td>0.049599</td>\n",
              "      <td>0.079468</td>\n",
              "      <td>0.039400</td>\n",
              "      <td>0.078399</td>\n",
              "      <td>0.020746</td>\n",
              "      <td>0.110653</td>\n",
              "      <td>0.263122</td>\n",
              "      <td>0.117973</td>\n",
              "      <td>1.000000</td>\n",
              "      <td>0.000322</td>\n",
              "      <td>-0.016579</td>\n",
              "      <td>0.022397</td>\n",
              "      <td>0.029725</td>\n",
              "      <td>0.040688</td>\n",
              "      <td>-0.091329</td>\n",
              "      <td>0.113159</td>\n",
              "      <td>-0.071008</td>\n",
              "      <td>-0.068835</td>\n",
              "      <td>-0.042347</td>\n",
              "      <td>-0.024833</td>\n",
              "      <td>-0.038280</td>\n",
              "      <td>0.063220</td>\n",
              "      <td>-0.022786</td>\n",
              "      <td>-0.056424</td>\n",
              "      <td>-0.121538</td>\n",
              "      <td>0.172717</td>\n",
              "      <td>0.083572</td>\n",
              "      <td>0.159442</td>\n",
              "      <td>0.076055</td>\n",
              "      <td>0.032920</td>\n",
              "      <td>0.020146</td>\n",
              "      <td>0.167896</td>\n",
              "      <td>0.142734</td>\n",
              "      <td>0.031115</td>\n",
              "      <td>0.013026</td>\n",
              "      <td>-0.052833</td>\n",
              "      <td>-0.025348</td>\n",
              "      <td>-0.014490</td>\n",
              "      <td>-0.009145</td>\n",
              "      <td>0.018682</td>\n",
              "      <td>0.034180</td>\n",
              "      <td>NaN</td>\n",
              "      <td>0.077953</td>\n",
              "      <td>0.089501</td>\n",
              "      <td>0.123527</td>\n",
              "      <td>0.008454</td>\n",
              "      <td>0.117725</td>\n",
              "      <td>-0.013366</td>\n",
              "      <td>0.155775</td>\n",
              "      <td>0.015423</td>\n",
              "      <td>-0.017561</td>\n",
              "    </tr>\n",
              "  </tbody>\n",
              "</table>\n",
              "</div>"
            ],
            "text/plain": [
              "                            game_count  ...  VR Support\n",
              "sales_rank                   -0.289494  ...   -0.017445\n",
              "completed                    -0.098960  ...   -0.004212\n",
              "percent_of_positve_ratings   -0.128416  ...   -0.017561\n",
              "\n",
              "[3 rows x 61 columns]"
            ]
          },
          "metadata": {
            "tags": []
          },
          "execution_count": 22
        }
      ]
    },
    {
      "cell_type": "markdown",
      "metadata": {
        "id": "ogDLQoq-N-rY",
        "colab_type": "text"
      },
      "source": [
        "After looking at how the variables influenced sales_rank, percent_of_positve_ratings, and completed I saw large differences in correlation between seemingly similar columns. For example, earlier I saw that many mature genre games had lower completion rates. However here I saw that mature games were correlated with higher completion proportions and sales. The splits I'm seeing indicate another important factor. \n",
        "\n",
        "As I have yet to look into publisher and this can have a large affect on game quality, length, and perception I will lok at the differences between Indie and AAA titles."
      ]
    },
    {
      "cell_type": "code",
      "metadata": {
        "id": "CNaKyIQ5UnaL",
        "colab_type": "code",
        "colab": {
          "base_uri": "https://localhost:8080/",
          "height": 51
        },
        "outputId": "61dd53da-a3e8-4a5b-a7a3-d89b255c4f7a"
      },
      "source": [
        "indie_prdf = full_prdf[full_prdf['Indie'] == 1]\n",
        "aaa_prdf = full_prdf[full_prdf['Indie'] == 0]\n",
        "\n",
        "numi = indie_prdf['name'].unique().size\n",
        "numAAA = aaa_prdf['name'].unique().size\n",
        "\n",
        "print('Number of Indie Games: ' + str(numi))\n",
        "print('Number of AAA Games: ' + str(numAAA))"
      ],
      "execution_count": null,
      "outputs": [
        {
          "output_type": "stream",
          "text": [
            "Number of Indie Games: 2083\n",
            "Number of AAA Games: 1130\n"
          ],
          "name": "stdout"
        }
      ]
    },
    {
      "cell_type": "markdown",
      "metadata": {
        "id": "DzE5nxgmQDIq",
        "colab_type": "text"
      },
      "source": [
        "This split seems to explain inconsistences with factors like genre, price, and sales rank. Users on Steam are generally aware about this distinction and know that Indie games typically have lower budgets, teams, and advertising. They also are far more plentiful on Steam as its one of the easiest places to sell Indie games. Its possible that this factor influences player expection and that Indie games and AAA games have different advantages over the other."
      ]
    },
    {
      "cell_type": "code",
      "metadata": {
        "id": "cXDtME4nXZuy",
        "colab_type": "code",
        "colab": {
          "base_uri": "https://localhost:8080/",
          "height": 196
        },
        "outputId": "2224c659-72d9-4d6b-ef85-f8a0b47d012d"
      },
      "source": [
        "indie_prdf.corr()[16:19]"
      ],
      "execution_count": null,
      "outputs": [
        {
          "output_type": "execute_result",
          "data": {
            "text/html": [
              "<div>\n",
              "<style scoped>\n",
              "    .dataframe tbody tr th:only-of-type {\n",
              "        vertical-align: middle;\n",
              "    }\n",
              "\n",
              "    .dataframe tbody tr th {\n",
              "        vertical-align: top;\n",
              "    }\n",
              "\n",
              "    .dataframe thead th {\n",
              "        text-align: right;\n",
              "    }\n",
              "</style>\n",
              "<table border=\"1\" class=\"dataframe\">\n",
              "  <thead>\n",
              "    <tr style=\"text-align: right;\">\n",
              "      <th></th>\n",
              "      <th>game_count</th>\n",
              "      <th>userId</th>\n",
              "      <th>appid</th>\n",
              "      <th>english</th>\n",
              "      <th>required_age</th>\n",
              "      <th>achievements</th>\n",
              "      <th>positive_ratings</th>\n",
              "      <th>negative_ratings</th>\n",
              "      <th>price</th>\n",
              "      <th>gameplay_main (hrs)</th>\n",
              "      <th>gameplay_main_extra (hrs)</th>\n",
              "      <th>gameplay_completionist (hrs)</th>\n",
              "      <th>playtime (hrs)</th>\n",
              "      <th>average_total_playtime (hrs)</th>\n",
              "      <th>median_total_playtime (hrs)</th>\n",
              "      <th>days_since_release</th>\n",
              "      <th>sales_rank</th>\n",
              "      <th>completed</th>\n",
              "      <th>percent_of_positve_ratings</th>\n",
              "      <th>Action</th>\n",
              "      <th>Adventure</th>\n",
              "      <th>Casual</th>\n",
              "      <th>Early Access</th>\n",
              "      <th>Free to Play</th>\n",
              "      <th>Gore</th>\n",
              "      <th>Indie</th>\n",
              "      <th>Massively Multiplayer</th>\n",
              "      <th>Nudity</th>\n",
              "      <th>RPG</th>\n",
              "      <th>Racing</th>\n",
              "      <th>Sexual Content</th>\n",
              "      <th>Simulation</th>\n",
              "      <th>Sports</th>\n",
              "      <th>Strategy</th>\n",
              "      <th>Violent</th>\n",
              "      <th>Captions available</th>\n",
              "      <th>Co-op</th>\n",
              "      <th>Commentary available</th>\n",
              "      <th>Cross-Platform Multiplayer</th>\n",
              "      <th>Full controller support</th>\n",
              "      <th>In-App Purchases</th>\n",
              "      <th>Includes Source SDK</th>\n",
              "      <th>Includes level editor</th>\n",
              "      <th>Local Co-op</th>\n",
              "      <th>Local Multi-Player</th>\n",
              "      <th>MMO</th>\n",
              "      <th>Multi-player</th>\n",
              "      <th>Online Co-op</th>\n",
              "      <th>Online Multi-Player</th>\n",
              "      <th>Partial Controller Support</th>\n",
              "      <th>Shared/Split Screen</th>\n",
              "      <th>Single-player</th>\n",
              "      <th>Stats</th>\n",
              "      <th>Steam Achievements</th>\n",
              "      <th>Steam Cloud</th>\n",
              "      <th>Steam Leaderboards</th>\n",
              "      <th>Steam Trading Cards</th>\n",
              "      <th>Steam Turn Notifications</th>\n",
              "      <th>Steam Workshop</th>\n",
              "      <th>SteamVR Collectibles</th>\n",
              "      <th>VR Support</th>\n",
              "    </tr>\n",
              "  </thead>\n",
              "  <tbody>\n",
              "    <tr>\n",
              "      <th>sales_rank</th>\n",
              "      <td>-0.278345</td>\n",
              "      <td>0.121315</td>\n",
              "      <td>-0.424726</td>\n",
              "      <td>0.017265</td>\n",
              "      <td>0.023313</td>\n",
              "      <td>0.017896</td>\n",
              "      <td>0.451635</td>\n",
              "      <td>0.326022</td>\n",
              "      <td>0.136026</td>\n",
              "      <td>0.410242</td>\n",
              "      <td>0.446588</td>\n",
              "      <td>0.419329</td>\n",
              "      <td>0.159094</td>\n",
              "      <td>0.418143</td>\n",
              "      <td>0.136161</td>\n",
              "      <td>0.308026</td>\n",
              "      <td>1.000000</td>\n",
              "      <td>0.153683</td>\n",
              "      <td>0.318582</td>\n",
              "      <td>0.101119</td>\n",
              "      <td>-0.062794</td>\n",
              "      <td>-0.117411</td>\n",
              "      <td>0.064760</td>\n",
              "      <td>0.166123</td>\n",
              "      <td>0.015761</td>\n",
              "      <td>NaN</td>\n",
              "      <td>0.216810</td>\n",
              "      <td>-0.020871</td>\n",
              "      <td>0.093619</td>\n",
              "      <td>-0.046983</td>\n",
              "      <td>-0.044867</td>\n",
              "      <td>0.214241</td>\n",
              "      <td>-0.012801</td>\n",
              "      <td>0.063887</td>\n",
              "      <td>-0.010894</td>\n",
              "      <td>0.109728</td>\n",
              "      <td>0.417193</td>\n",
              "      <td>-0.015072</td>\n",
              "      <td>0.298322</td>\n",
              "      <td>0.040575</td>\n",
              "      <td>0.092210</td>\n",
              "      <td>0.047086</td>\n",
              "      <td>0.240895</td>\n",
              "      <td>0.006193</td>\n",
              "      <td>0.056020</td>\n",
              "      <td>0.212521</td>\n",
              "      <td>0.384155</td>\n",
              "      <td>0.166024</td>\n",
              "      <td>0.240106</td>\n",
              "      <td>0.005919</td>\n",
              "      <td>0.049220</td>\n",
              "      <td>NaN</td>\n",
              "      <td>-0.056415</td>\n",
              "      <td>-0.053352</td>\n",
              "      <td>0.085255</td>\n",
              "      <td>-0.098378</td>\n",
              "      <td>0.073298</td>\n",
              "      <td>-0.033708</td>\n",
              "      <td>0.293041</td>\n",
              "      <td>-0.053311</td>\n",
              "      <td>0.022255</td>\n",
              "    </tr>\n",
              "    <tr>\n",
              "      <th>completed</th>\n",
              "      <td>-0.083630</td>\n",
              "      <td>0.084111</td>\n",
              "      <td>-0.039544</td>\n",
              "      <td>0.004854</td>\n",
              "      <td>0.037514</td>\n",
              "      <td>0.020904</td>\n",
              "      <td>0.123213</td>\n",
              "      <td>0.057896</td>\n",
              "      <td>0.027518</td>\n",
              "      <td>0.016442</td>\n",
              "      <td>0.061027</td>\n",
              "      <td>0.084400</td>\n",
              "      <td>0.229716</td>\n",
              "      <td>0.104210</td>\n",
              "      <td>0.064178</td>\n",
              "      <td>0.015161</td>\n",
              "      <td>0.153683</td>\n",
              "      <td>1.000000</td>\n",
              "      <td>0.129740</td>\n",
              "      <td>0.012450</td>\n",
              "      <td>-0.054947</td>\n",
              "      <td>0.015948</td>\n",
              "      <td>0.079039</td>\n",
              "      <td>-0.048475</td>\n",
              "      <td>-0.003916</td>\n",
              "      <td>NaN</td>\n",
              "      <td>0.009892</td>\n",
              "      <td>-0.007769</td>\n",
              "      <td>0.010062</td>\n",
              "      <td>0.024305</td>\n",
              "      <td>-0.011273</td>\n",
              "      <td>0.088516</td>\n",
              "      <td>0.024921</td>\n",
              "      <td>0.010366</td>\n",
              "      <td>-0.007431</td>\n",
              "      <td>-0.006809</td>\n",
              "      <td>0.084298</td>\n",
              "      <td>-0.032543</td>\n",
              "      <td>0.060773</td>\n",
              "      <td>-0.027995</td>\n",
              "      <td>-0.000124</td>\n",
              "      <td>0.002070</td>\n",
              "      <td>0.069690</td>\n",
              "      <td>-0.029557</td>\n",
              "      <td>-0.005526</td>\n",
              "      <td>0.005906</td>\n",
              "      <td>0.081205</td>\n",
              "      <td>0.056885</td>\n",
              "      <td>0.088631</td>\n",
              "      <td>0.015767</td>\n",
              "      <td>0.028759</td>\n",
              "      <td>NaN</td>\n",
              "      <td>0.020624</td>\n",
              "      <td>-0.008464</td>\n",
              "      <td>0.018751</td>\n",
              "      <td>-0.004727</td>\n",
              "      <td>0.027458</td>\n",
              "      <td>-0.011013</td>\n",
              "      <td>0.091915</td>\n",
              "      <td>0.036600</td>\n",
              "      <td>0.001456</td>\n",
              "    </tr>\n",
              "    <tr>\n",
              "      <th>percent_of_positve_ratings</th>\n",
              "      <td>-0.164290</td>\n",
              "      <td>0.073654</td>\n",
              "      <td>-0.029289</td>\n",
              "      <td>0.020653</td>\n",
              "      <td>0.007518</td>\n",
              "      <td>0.034383</td>\n",
              "      <td>0.240259</td>\n",
              "      <td>-0.039195</td>\n",
              "      <td>-0.009124</td>\n",
              "      <td>0.076982</td>\n",
              "      <td>0.104361</td>\n",
              "      <td>0.122310</td>\n",
              "      <td>0.067171</td>\n",
              "      <td>0.130925</td>\n",
              "      <td>0.076756</td>\n",
              "      <td>0.037522</td>\n",
              "      <td>0.318582</td>\n",
              "      <td>0.129740</td>\n",
              "      <td>1.000000</td>\n",
              "      <td>-0.047890</td>\n",
              "      <td>-0.063683</td>\n",
              "      <td>-0.000161</td>\n",
              "      <td>0.044696</td>\n",
              "      <td>0.033820</td>\n",
              "      <td>-0.056198</td>\n",
              "      <td>NaN</td>\n",
              "      <td>-0.078273</td>\n",
              "      <td>-0.045058</td>\n",
              "      <td>-0.025747</td>\n",
              "      <td>0.016749</td>\n",
              "      <td>-0.009497</td>\n",
              "      <td>0.120255</td>\n",
              "      <td>0.008806</td>\n",
              "      <td>-0.048991</td>\n",
              "      <td>-0.104249</td>\n",
              "      <td>0.047353</td>\n",
              "      <td>0.074891</td>\n",
              "      <td>0.016782</td>\n",
              "      <td>0.090839</td>\n",
              "      <td>0.025792</td>\n",
              "      <td>0.051415</td>\n",
              "      <td>0.005201</td>\n",
              "      <td>0.107856</td>\n",
              "      <td>0.016866</td>\n",
              "      <td>-0.003900</td>\n",
              "      <td>-0.069913</td>\n",
              "      <td>0.061649</td>\n",
              "      <td>0.010742</td>\n",
              "      <td>0.042716</td>\n",
              "      <td>-0.006506</td>\n",
              "      <td>0.044299</td>\n",
              "      <td>NaN</td>\n",
              "      <td>-0.013369</td>\n",
              "      <td>0.057082</td>\n",
              "      <td>0.115953</td>\n",
              "      <td>0.007375</td>\n",
              "      <td>0.072451</td>\n",
              "      <td>-0.012438</td>\n",
              "      <td>0.165054</td>\n",
              "      <td>0.008144</td>\n",
              "      <td>-0.027285</td>\n",
              "    </tr>\n",
              "  </tbody>\n",
              "</table>\n",
              "</div>"
            ],
            "text/plain": [
              "                            game_count  ...  VR Support\n",
              "sales_rank                   -0.278345  ...    0.022255\n",
              "completed                    -0.083630  ...    0.001456\n",
              "percent_of_positve_ratings   -0.164290  ...   -0.027285\n",
              "\n",
              "[3 rows x 61 columns]"
            ]
          },
          "metadata": {
            "tags": []
          },
          "execution_count": 24
        }
      ]
    },
    {
      "cell_type": "code",
      "metadata": {
        "id": "LqA-lAhsY7eS",
        "colab_type": "code",
        "colab": {
          "base_uri": "https://localhost:8080/",
          "height": 196
        },
        "outputId": "b3f3feaa-9e20-4c80-8af8-5d96694a3ff8"
      },
      "source": [
        "aaa_prdf.corr()[16:19]"
      ],
      "execution_count": null,
      "outputs": [
        {
          "output_type": "execute_result",
          "data": {
            "text/html": [
              "<div>\n",
              "<style scoped>\n",
              "    .dataframe tbody tr th:only-of-type {\n",
              "        vertical-align: middle;\n",
              "    }\n",
              "\n",
              "    .dataframe tbody tr th {\n",
              "        vertical-align: top;\n",
              "    }\n",
              "\n",
              "    .dataframe thead th {\n",
              "        text-align: right;\n",
              "    }\n",
              "</style>\n",
              "<table border=\"1\" class=\"dataframe\">\n",
              "  <thead>\n",
              "    <tr style=\"text-align: right;\">\n",
              "      <th></th>\n",
              "      <th>game_count</th>\n",
              "      <th>userId</th>\n",
              "      <th>appid</th>\n",
              "      <th>english</th>\n",
              "      <th>required_age</th>\n",
              "      <th>achievements</th>\n",
              "      <th>positive_ratings</th>\n",
              "      <th>negative_ratings</th>\n",
              "      <th>price</th>\n",
              "      <th>gameplay_main (hrs)</th>\n",
              "      <th>gameplay_main_extra (hrs)</th>\n",
              "      <th>gameplay_completionist (hrs)</th>\n",
              "      <th>playtime (hrs)</th>\n",
              "      <th>average_total_playtime (hrs)</th>\n",
              "      <th>median_total_playtime (hrs)</th>\n",
              "      <th>days_since_release</th>\n",
              "      <th>sales_rank</th>\n",
              "      <th>completed</th>\n",
              "      <th>percent_of_positve_ratings</th>\n",
              "      <th>Action</th>\n",
              "      <th>Adventure</th>\n",
              "      <th>Casual</th>\n",
              "      <th>Early Access</th>\n",
              "      <th>Free to Play</th>\n",
              "      <th>Gore</th>\n",
              "      <th>Indie</th>\n",
              "      <th>Massively Multiplayer</th>\n",
              "      <th>Nudity</th>\n",
              "      <th>RPG</th>\n",
              "      <th>Racing</th>\n",
              "      <th>Sexual Content</th>\n",
              "      <th>Simulation</th>\n",
              "      <th>Sports</th>\n",
              "      <th>Strategy</th>\n",
              "      <th>Violent</th>\n",
              "      <th>Captions available</th>\n",
              "      <th>Co-op</th>\n",
              "      <th>Commentary available</th>\n",
              "      <th>Cross-Platform Multiplayer</th>\n",
              "      <th>Full controller support</th>\n",
              "      <th>In-App Purchases</th>\n",
              "      <th>Includes Source SDK</th>\n",
              "      <th>Includes level editor</th>\n",
              "      <th>Local Co-op</th>\n",
              "      <th>Local Multi-Player</th>\n",
              "      <th>MMO</th>\n",
              "      <th>Multi-player</th>\n",
              "      <th>Online Co-op</th>\n",
              "      <th>Online Multi-Player</th>\n",
              "      <th>Partial Controller Support</th>\n",
              "      <th>Shared/Split Screen</th>\n",
              "      <th>Single-player</th>\n",
              "      <th>Stats</th>\n",
              "      <th>Steam Achievements</th>\n",
              "      <th>Steam Cloud</th>\n",
              "      <th>Steam Leaderboards</th>\n",
              "      <th>Steam Trading Cards</th>\n",
              "      <th>Steam Turn Notifications</th>\n",
              "      <th>Steam Workshop</th>\n",
              "      <th>SteamVR Collectibles</th>\n",
              "      <th>VR Support</th>\n",
              "    </tr>\n",
              "  </thead>\n",
              "  <tbody>\n",
              "    <tr>\n",
              "      <th>sales_rank</th>\n",
              "      <td>-0.285512</td>\n",
              "      <td>0.118892</td>\n",
              "      <td>-0.421427</td>\n",
              "      <td>NaN</td>\n",
              "      <td>0.165837</td>\n",
              "      <td>0.131938</td>\n",
              "      <td>0.493497</td>\n",
              "      <td>0.253162</td>\n",
              "      <td>-0.033379</td>\n",
              "      <td>0.098665</td>\n",
              "      <td>0.171270</td>\n",
              "      <td>0.155810</td>\n",
              "      <td>0.103157</td>\n",
              "      <td>0.239566</td>\n",
              "      <td>0.179830</td>\n",
              "      <td>0.360272</td>\n",
              "      <td>1.000000</td>\n",
              "      <td>0.191233</td>\n",
              "      <td>0.306893</td>\n",
              "      <td>0.236860</td>\n",
              "      <td>-0.120197</td>\n",
              "      <td>-0.309192</td>\n",
              "      <td>-0.050691</td>\n",
              "      <td>-0.018174</td>\n",
              "      <td>-0.078533</td>\n",
              "      <td>NaN</td>\n",
              "      <td>0.009427</td>\n",
              "      <td>-0.054120</td>\n",
              "      <td>-0.006579</td>\n",
              "      <td>-0.035104</td>\n",
              "      <td>-0.036370</td>\n",
              "      <td>-0.014988</td>\n",
              "      <td>-0.030012</td>\n",
              "      <td>-0.077890</td>\n",
              "      <td>-0.082477</td>\n",
              "      <td>0.335371</td>\n",
              "      <td>0.129602</td>\n",
              "      <td>0.380387</td>\n",
              "      <td>0.002510</td>\n",
              "      <td>0.050287</td>\n",
              "      <td>-0.006034</td>\n",
              "      <td>0.341550</td>\n",
              "      <td>0.176459</td>\n",
              "      <td>-0.048315</td>\n",
              "      <td>-0.105969</td>\n",
              "      <td>0.030544</td>\n",
              "      <td>0.076490</td>\n",
              "      <td>-0.056703</td>\n",
              "      <td>-0.080567</td>\n",
              "      <td>0.108788</td>\n",
              "      <td>-0.111354</td>\n",
              "      <td>NaN</td>\n",
              "      <td>0.201041</td>\n",
              "      <td>0.094720</td>\n",
              "      <td>0.032233</td>\n",
              "      <td>-0.061836</td>\n",
              "      <td>-0.015967</td>\n",
              "      <td>-0.040898</td>\n",
              "      <td>0.210551</td>\n",
              "      <td>-0.053171</td>\n",
              "      <td>-0.025529</td>\n",
              "    </tr>\n",
              "    <tr>\n",
              "      <th>completed</th>\n",
              "      <td>-0.115655</td>\n",
              "      <td>0.062697</td>\n",
              "      <td>0.012467</td>\n",
              "      <td>NaN</td>\n",
              "      <td>0.130061</td>\n",
              "      <td>0.167505</td>\n",
              "      <td>0.338282</td>\n",
              "      <td>0.210414</td>\n",
              "      <td>0.112032</td>\n",
              "      <td>0.018976</td>\n",
              "      <td>0.113644</td>\n",
              "      <td>0.124229</td>\n",
              "      <td>0.309160</td>\n",
              "      <td>0.265021</td>\n",
              "      <td>0.243652</td>\n",
              "      <td>-0.082368</td>\n",
              "      <td>0.191233</td>\n",
              "      <td>1.000000</td>\n",
              "      <td>0.114617</td>\n",
              "      <td>0.057159</td>\n",
              "      <td>0.016924</td>\n",
              "      <td>-0.034542</td>\n",
              "      <td>-0.003520</td>\n",
              "      <td>-0.013703</td>\n",
              "      <td>-0.024733</td>\n",
              "      <td>NaN</td>\n",
              "      <td>0.001502</td>\n",
              "      <td>-0.015499</td>\n",
              "      <td>0.019400</td>\n",
              "      <td>-0.050128</td>\n",
              "      <td>-0.008369</td>\n",
              "      <td>-0.005570</td>\n",
              "      <td>-0.036495</td>\n",
              "      <td>-0.032923</td>\n",
              "      <td>-0.022580</td>\n",
              "      <td>0.132427</td>\n",
              "      <td>0.149821</td>\n",
              "      <td>0.095373</td>\n",
              "      <td>0.017541</td>\n",
              "      <td>0.131757</td>\n",
              "      <td>0.019763</td>\n",
              "      <td>0.098367</td>\n",
              "      <td>0.103611</td>\n",
              "      <td>0.066771</td>\n",
              "      <td>0.051179</td>\n",
              "      <td>-0.001557</td>\n",
              "      <td>0.031232</td>\n",
              "      <td>0.052908</td>\n",
              "      <td>0.024737</td>\n",
              "      <td>0.054094</td>\n",
              "      <td>-0.000814</td>\n",
              "      <td>NaN</td>\n",
              "      <td>0.077533</td>\n",
              "      <td>0.202334</td>\n",
              "      <td>0.094938</td>\n",
              "      <td>-0.009521</td>\n",
              "      <td>0.117993</td>\n",
              "      <td>-0.008551</td>\n",
              "      <td>0.166776</td>\n",
              "      <td>-0.001288</td>\n",
              "      <td>-0.009644</td>\n",
              "    </tr>\n",
              "    <tr>\n",
              "      <th>percent_of_positve_ratings</th>\n",
              "      <td>-0.113341</td>\n",
              "      <td>0.053151</td>\n",
              "      <td>-0.211486</td>\n",
              "      <td>NaN</td>\n",
              "      <td>-0.026006</td>\n",
              "      <td>0.074298</td>\n",
              "      <td>0.205304</td>\n",
              "      <td>-0.188954</td>\n",
              "      <td>-0.182084</td>\n",
              "      <td>-0.039862</td>\n",
              "      <td>0.006716</td>\n",
              "      <td>0.060131</td>\n",
              "      <td>0.016430</td>\n",
              "      <td>0.028924</td>\n",
              "      <td>-0.026928</td>\n",
              "      <td>0.245099</td>\n",
              "      <td>0.306893</td>\n",
              "      <td>0.114617</td>\n",
              "      <td>1.000000</td>\n",
              "      <td>0.081916</td>\n",
              "      <td>-0.023002</td>\n",
              "      <td>-0.013106</td>\n",
              "      <td>-0.082836</td>\n",
              "      <td>0.013645</td>\n",
              "      <td>-0.157733</td>\n",
              "      <td>NaN</td>\n",
              "      <td>-0.090547</td>\n",
              "      <td>-0.134613</td>\n",
              "      <td>-0.058246</td>\n",
              "      <td>-0.041407</td>\n",
              "      <td>-0.112253</td>\n",
              "      <td>-0.052858</td>\n",
              "      <td>-0.052271</td>\n",
              "      <td>-0.069137</td>\n",
              "      <td>-0.142110</td>\n",
              "      <td>0.286556</td>\n",
              "      <td>0.097927</td>\n",
              "      <td>0.257672</td>\n",
              "      <td>0.029230</td>\n",
              "      <td>0.024861</td>\n",
              "      <td>-0.021678</td>\n",
              "      <td>0.259756</td>\n",
              "      <td>0.164011</td>\n",
              "      <td>0.018976</td>\n",
              "      <td>0.012999</td>\n",
              "      <td>-0.062669</td>\n",
              "      <td>-0.061261</td>\n",
              "      <td>-0.073771</td>\n",
              "      <td>-0.104352</td>\n",
              "      <td>0.052868</td>\n",
              "      <td>-0.027388</td>\n",
              "      <td>NaN</td>\n",
              "      <td>0.162191</td>\n",
              "      <td>0.082754</td>\n",
              "      <td>0.124564</td>\n",
              "      <td>-0.000807</td>\n",
              "      <td>0.112004</td>\n",
              "      <td>-0.019296</td>\n",
              "      <td>0.137314</td>\n",
              "      <td>0.023091</td>\n",
              "      <td>-0.033455</td>\n",
              "    </tr>\n",
              "  </tbody>\n",
              "</table>\n",
              "</div>"
            ],
            "text/plain": [
              "                            game_count  ...  VR Support\n",
              "sales_rank                   -0.285512  ...   -0.025529\n",
              "completed                    -0.115655  ...   -0.009644\n",
              "percent_of_positve_ratings   -0.113341  ...   -0.033455\n",
              "\n",
              "[3 rows x 61 columns]"
            ]
          },
          "metadata": {
            "tags": []
          },
          "execution_count": 25
        }
      ]
    },
    {
      "cell_type": "markdown",
      "metadata": {
        "id": "_YPUi1UYO5bh",
        "colab_type": "text"
      },
      "source": [
        "# Tests\n",
        "\n"
      ]
    },
    {
      "cell_type": "code",
      "metadata": {
        "id": "mmyf3vHqO_qZ",
        "colab_type": "code",
        "colab": {}
      },
      "source": [
        ""
      ],
      "execution_count": null,
      "outputs": []
    },
    {
      "cell_type": "markdown",
      "metadata": {
        "id": "eWiknLYbVE7D",
        "colab_type": "text"
      },
      "source": [
        "# Visualization"
      ]
    },
    {
      "cell_type": "code",
      "metadata": {
        "id": "mbSzHaDXAbwx",
        "colab_type": "code",
        "colab": {
          "base_uri": "https://localhost:8080/",
          "height": 581
        },
        "outputId": "c7248a5b-d485-45bc-c9aa-9b96a8898f96"
      },
      "source": [
        "prdf.head()"
      ],
      "execution_count": null,
      "outputs": [
        {
          "output_type": "execute_result",
          "data": {
            "text/html": [
              "<div>\n",
              "<style scoped>\n",
              "    .dataframe tbody tr th:only-of-type {\n",
              "        vertical-align: middle;\n",
              "    }\n",
              "\n",
              "    .dataframe tbody tr th {\n",
              "        vertical-align: top;\n",
              "    }\n",
              "\n",
              "    .dataframe thead th {\n",
              "        text-align: right;\n",
              "    }\n",
              "</style>\n",
              "<table border=\"1\" class=\"dataframe\">\n",
              "  <thead>\n",
              "    <tr style=\"text-align: right;\">\n",
              "      <th></th>\n",
              "      <th>game_count</th>\n",
              "      <th>userId</th>\n",
              "      <th>appid</th>\n",
              "      <th>name</th>\n",
              "      <th>release_date</th>\n",
              "      <th>english</th>\n",
              "      <th>developer</th>\n",
              "      <th>publisher</th>\n",
              "      <th>platforms</th>\n",
              "      <th>required_age</th>\n",
              "      <th>categories</th>\n",
              "      <th>genres</th>\n",
              "      <th>steamspy_tags</th>\n",
              "      <th>achievements</th>\n",
              "      <th>positive_ratings</th>\n",
              "      <th>negative_ratings</th>\n",
              "      <th>price</th>\n",
              "      <th>gameplay_main (hrs)</th>\n",
              "      <th>gameplay_main_extra (hrs)</th>\n",
              "      <th>gameplay_completionist (hrs)</th>\n",
              "      <th>playtime (hrs)</th>\n",
              "      <th>average_total_playtime (hrs)</th>\n",
              "      <th>median_total_playtime (hrs)</th>\n",
              "      <th>days_since_release</th>\n",
              "      <th>sales_rank</th>\n",
              "      <th>completed</th>\n",
              "      <th>percent_of_positve_ratings</th>\n",
              "    </tr>\n",
              "  </thead>\n",
              "  <tbody>\n",
              "    <tr>\n",
              "      <th>0</th>\n",
              "      <td>88</td>\n",
              "      <td>76561198156664158</td>\n",
              "      <td>4000</td>\n",
              "      <td>Garry's Mod</td>\n",
              "      <td>2006-11-29</td>\n",
              "      <td>True</td>\n",
              "      <td>Facepunch Studios</td>\n",
              "      <td>Valve</td>\n",
              "      <td>windows;mac;linux</td>\n",
              "      <td>0</td>\n",
              "      <td>Single-player;Multi-player;Co-op;Cross-Platfor...</td>\n",
              "      <td>Indie;Simulation</td>\n",
              "      <td>Sandbox;Multiplayer;Funny</td>\n",
              "      <td>29</td>\n",
              "      <td>363721</td>\n",
              "      <td>16433</td>\n",
              "      <td>6.99</td>\n",
              "      <td>132.0</td>\n",
              "      <td>153.0</td>\n",
              "      <td>147.0</td>\n",
              "      <td>4.683333</td>\n",
              "      <td>207.033333</td>\n",
              "      <td>31.25</td>\n",
              "      <td>5019</td>\n",
              "      <td>11</td>\n",
              "      <td>False</td>\n",
              "      <td>0.956773</td>\n",
              "    </tr>\n",
              "    <tr>\n",
              "      <th>1</th>\n",
              "      <td>106</td>\n",
              "      <td>76561198043472122</td>\n",
              "      <td>4000</td>\n",
              "      <td>Garry's Mod</td>\n",
              "      <td>2006-11-29</td>\n",
              "      <td>True</td>\n",
              "      <td>Facepunch Studios</td>\n",
              "      <td>Valve</td>\n",
              "      <td>windows;mac;linux</td>\n",
              "      <td>0</td>\n",
              "      <td>Single-player;Multi-player;Co-op;Cross-Platfor...</td>\n",
              "      <td>Indie;Simulation</td>\n",
              "      <td>Sandbox;Multiplayer;Funny</td>\n",
              "      <td>29</td>\n",
              "      <td>363721</td>\n",
              "      <td>16433</td>\n",
              "      <td>6.99</td>\n",
              "      <td>132.0</td>\n",
              "      <td>153.0</td>\n",
              "      <td>147.0</td>\n",
              "      <td>168.183333</td>\n",
              "      <td>207.033333</td>\n",
              "      <td>31.25</td>\n",
              "      <td>5019</td>\n",
              "      <td>11</td>\n",
              "      <td>True</td>\n",
              "      <td>0.956773</td>\n",
              "    </tr>\n",
              "    <tr>\n",
              "      <th>2</th>\n",
              "      <td>211</td>\n",
              "      <td>76561198048353577</td>\n",
              "      <td>4000</td>\n",
              "      <td>Garry's Mod</td>\n",
              "      <td>2006-11-29</td>\n",
              "      <td>True</td>\n",
              "      <td>Facepunch Studios</td>\n",
              "      <td>Valve</td>\n",
              "      <td>windows;mac;linux</td>\n",
              "      <td>0</td>\n",
              "      <td>Single-player;Multi-player;Co-op;Cross-Platfor...</td>\n",
              "      <td>Indie;Simulation</td>\n",
              "      <td>Sandbox;Multiplayer;Funny</td>\n",
              "      <td>29</td>\n",
              "      <td>363721</td>\n",
              "      <td>16433</td>\n",
              "      <td>6.99</td>\n",
              "      <td>132.0</td>\n",
              "      <td>153.0</td>\n",
              "      <td>147.0</td>\n",
              "      <td>1924.200000</td>\n",
              "      <td>207.033333</td>\n",
              "      <td>31.25</td>\n",
              "      <td>5019</td>\n",
              "      <td>11</td>\n",
              "      <td>True</td>\n",
              "      <td>0.956773</td>\n",
              "    </tr>\n",
              "    <tr>\n",
              "      <th>3</th>\n",
              "      <td>185</td>\n",
              "      <td>76561198100701221</td>\n",
              "      <td>4000</td>\n",
              "      <td>Garry's Mod</td>\n",
              "      <td>2006-11-29</td>\n",
              "      <td>True</td>\n",
              "      <td>Facepunch Studios</td>\n",
              "      <td>Valve</td>\n",
              "      <td>windows;mac;linux</td>\n",
              "      <td>0</td>\n",
              "      <td>Single-player;Multi-player;Co-op;Cross-Platfor...</td>\n",
              "      <td>Indie;Simulation</td>\n",
              "      <td>Sandbox;Multiplayer;Funny</td>\n",
              "      <td>29</td>\n",
              "      <td>363721</td>\n",
              "      <td>16433</td>\n",
              "      <td>6.99</td>\n",
              "      <td>132.0</td>\n",
              "      <td>153.0</td>\n",
              "      <td>147.0</td>\n",
              "      <td>449.316667</td>\n",
              "      <td>207.033333</td>\n",
              "      <td>31.25</td>\n",
              "      <td>5019</td>\n",
              "      <td>11</td>\n",
              "      <td>True</td>\n",
              "      <td>0.956773</td>\n",
              "    </tr>\n",
              "    <tr>\n",
              "      <th>4</th>\n",
              "      <td>152</td>\n",
              "      <td>76561198078738103</td>\n",
              "      <td>4000</td>\n",
              "      <td>Garry's Mod</td>\n",
              "      <td>2006-11-29</td>\n",
              "      <td>True</td>\n",
              "      <td>Facepunch Studios</td>\n",
              "      <td>Valve</td>\n",
              "      <td>windows;mac;linux</td>\n",
              "      <td>0</td>\n",
              "      <td>Single-player;Multi-player;Co-op;Cross-Platfor...</td>\n",
              "      <td>Indie;Simulation</td>\n",
              "      <td>Sandbox;Multiplayer;Funny</td>\n",
              "      <td>29</td>\n",
              "      <td>363721</td>\n",
              "      <td>16433</td>\n",
              "      <td>6.99</td>\n",
              "      <td>132.0</td>\n",
              "      <td>153.0</td>\n",
              "      <td>147.0</td>\n",
              "      <td>11368.100000</td>\n",
              "      <td>207.033333</td>\n",
              "      <td>31.25</td>\n",
              "      <td>5019</td>\n",
              "      <td>11</td>\n",
              "      <td>True</td>\n",
              "      <td>0.956773</td>\n",
              "    </tr>\n",
              "  </tbody>\n",
              "</table>\n",
              "</div>"
            ],
            "text/plain": [
              "   game_count             userId  ...  completed percent_of_positve_ratings\n",
              "0          88  76561198156664158  ...      False                   0.956773\n",
              "1         106  76561198043472122  ...       True                   0.956773\n",
              "2         211  76561198048353577  ...       True                   0.956773\n",
              "3         185  76561198100701221  ...       True                   0.956773\n",
              "4         152  76561198078738103  ...       True                   0.956773\n",
              "\n",
              "[5 rows x 27 columns]"
            ]
          },
          "metadata": {
            "tags": []
          },
          "execution_count": 70
        }
      ]
    },
    {
      "cell_type": "markdown",
      "metadata": {
        "id": "G5cSHp4jFsKj",
        "colab_type": "text"
      },
      "source": [
        "Slight correlation between game length and completion."
      ]
    },
    {
      "cell_type": "code",
      "metadata": {
        "id": "rhQALoHSAcqE",
        "colab_type": "code",
        "colab": {
          "base_uri": "https://localhost:8080/",
          "height": 297
        },
        "outputId": "b75a51a7-39b0-4501-e8ab-e6cb401cf327"
      },
      "source": [
        "a = (\n",
        "    prdf\n",
        "     .groupby('name')\n",
        "     .agg(\n",
        "         {'completed': 'mean',\n",
        "          'price': 'first',\n",
        "          'gameplay_main (hrs)': 'first'\n",
        "         }\n",
        "     )\n",
        ")\n",
        "\n",
        "a.plot.scatter(x=2, y=0)\n",
        "plt.xlim(0, 50)"
      ],
      "execution_count": null,
      "outputs": [
        {
          "output_type": "execute_result",
          "data": {
            "text/plain": [
              "(0.0, 50.0)"
            ]
          },
          "metadata": {
            "tags": []
          },
          "execution_count": 71
        },
        {
          "output_type": "display_data",
          "data": {
            "image/png": "[encoded data removed]",
            "text/plain": [
              "<Figure size 432x288 with 1 Axes>"
            ]
          },
          "metadata": {
            "tags": [],
            "needs_background": "light"
          }
        }
      ]
    },
    {
      "cell_type": "code",
      "metadata": {
        "id": "M82n7OXJQB-c",
        "colab_type": "code",
        "colab": {
          "base_uri": "https://localhost:8080/",
          "height": 296
        },
        "outputId": "0d125f91-0533-4310-d0ff-5941fd80c91a"
      },
      "source": [
        "a.plot.scatter(x=1, y=0)\n",
        "#plt.xlim(0, 50)"
      ],
      "execution_count": null,
      "outputs": [
        {
          "output_type": "execute_result",
          "data": {
            "text/plain": [
              "<matplotlib.axes._subplots.AxesSubplot at 0x7fb8acdcca90>"
            ]
          },
          "metadata": {
            "tags": []
          },
          "execution_count": 72
        },
        {
          "output_type": "display_data",
          "data": {
            "image/png": "[encoded data removed]",
            "text/plain": [
              "<Figure size 432x288 with 1 Axes>"
            ]
          },
          "metadata": {
            "tags": [],
            "needs_background": "light"
          }
        }
      ]
    }
  ]
}