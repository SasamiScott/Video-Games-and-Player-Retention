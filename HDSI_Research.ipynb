{
  "nbformat": 4,
  "nbformat_minor": 0,
  "metadata": {
    "colab": {
      "name": "HDSI Research.ipynb",
      "provenance": [],
      "collapsed_sections": [
        "7iq8FcYN05Es",
        "jQlL_Z7QxVZ2"
      ],
      "authorship_tag": "ABX9TyNm+esIWAuCcXvdTrMnh3lE",
      "include_colab_link": true
    },
    "kernelspec": {
      "name": "python3",
      "display_name": "Python 3"
    }
  },
  "cells": [
    {
      "cell_type": "markdown",
      "metadata": {
        "id": "view-in-github",
        "colab_type": "text"
      },
      "source": [
        "<a href=\"https://colab.research.google.com/github/SasamiScott/Video-Games-and-Player-Retention/blob/master/HDSI_Research.ipynb\" target=\"_parent\"><img src=\"https://colab.research.google.com/assets/colab-badge.svg\" alt=\"Open In Colab\"/></a>"
      ]
    },
    {
      "cell_type": "code",
      "metadata": {
        "id": "LX-IJVdevBft",
        "colab_type": "code",
        "colab": {}
      },
      "source": [
        "import pickle\n",
        "import numpy as np\n",
        "import urllib.request\n",
        "import time\n",
        "import pandas as pd\n",
        "import json\n",
        "import re"
      ],
      "execution_count": 0,
      "outputs": []
    },
    {
      "cell_type": "code",
      "metadata": {
        "id": "vSQIQzscxTEl",
        "colab_type": "code",
        "outputId": "392aeb34-c6d5-473d-935f-54af7ab55bf6",
        "colab": {
          "base_uri": "https://localhost:8080/",
          "height": 126
        }
      },
      "source": [
        "from google.colab import drive\n",
        "drive.mount('/content/gdrive')"
      ],
      "execution_count": 0,
      "outputs": [
        {
          "output_type": "stream",
          "text": [
            "Go to this URL in a browser: https://accounts.google.com/o/oauth2/auth?client_id=947318989803-6bn6qk8qdgf4n4g3pfee6491hc0brc4i.apps.googleusercontent.com&redirect_uri=urn%3aietf%3awg%3aoauth%3a2.0%3aoob&response_type=code&scope=email%20https%3a%2f%2fwww.googleapis.com%2fauth%2fdocs.test%20https%3a%2f%2fwww.googleapis.com%2fauth%2fdrive%20https%3a%2f%2fwww.googleapis.com%2fauth%2fdrive.photos.readonly%20https%3a%2f%2fwww.googleapis.com%2fauth%2fpeopleapi.readonly\n",
            "\n",
            "Enter your authorization code:\n",
            "··········\n",
            "Mounted at /content/gdrive\n"
          ],
          "name": "stdout"
        }
      ]
    },
    {
      "cell_type": "markdown",
      "metadata": {
        "id": "FNJLtWXdfuDB",
        "colab_type": "text"
      },
      "source": [
        "# Gathering User Data"
      ]
    },
    {
      "cell_type": "code",
      "metadata": {
        "id": "WRDRyCC-vJs_",
        "colab_type": "code",
        "outputId": "87e03751-1d88-4c6f-af2c-eec77024f283",
        "colab": {
          "base_uri": "https://localhost:8080/",
          "height": 35
        }
      },
      "source": [
        "#This contains code and data from McAuley \n",
        "user_f = '/content/gdrive/My Drive/Colab Notebooks/user_id_lookup.txt'\n",
        "users = pickle.load(open(user_f,'rb'))\n",
        "\n",
        "#From his user file I want every userId on record, but this are mixed with usernames\n",
        "user_ids = []\n",
        "for id in range(len(users)):\n",
        "  try:\n",
        "    int(users[id]) #ids are all numbers\n",
        "    if len(users[id]) == 17 and users[id][0] == '7': # ids are 17 chracters and begin with 7\n",
        "      user_ids.append(users[id])\n",
        "  except:\n",
        "    continue\n",
        "  \n",
        "print(\"Number of User Ids: \" + str(len(user_ids)))"
      ],
      "execution_count": 0,
      "outputs": [
        {
          "output_type": "stream",
          "text": [
            "Number of User Ids: 14445\n"
          ],
          "name": "stdout"
        }
      ]
    },
    {
      "cell_type": "code",
      "metadata": {
        "id": "_B6R0Ej46kiF",
        "colab_type": "code",
        "colab": {}
      },
      "source": [
        "#Set ups the non changing components of the url I'm using to test userIds and get user data on games owned\n",
        "u_base = 'http://api.steampowered.com/IPlayerService'\n",
        "u_db = 'GetOwnedGames/v0001'\n",
        "u_key = '?key='\n",
        "key = 'A43433F6225B90C91D6DD1F3783AF943'\n",
        "u_format = 'format=json'\n",
        "u_id = 'steamid='\n",
        "\n",
        "public_users = [] #Ids\n",
        "public_user_data = [] #Games owned and associated playtimes"
      ],
      "execution_count": 0,
      "outputs": []
    },
    {
      "cell_type": "code",
      "metadata": {
        "id": "iI2XWgL78Ttg",
        "colab_type": "code",
        "colab": {}
      },
      "source": [
        "# PERSONAL: check 13000 - 14445 again only a 22 user id difference from 12000 - 13000\n",
        "\n",
        "for i in range(1, len(user_ids)): # INCREMENT RANGE TO 1000\n",
        "  user_x = user_ids[i]\n",
        "  steamids = user_x # the user id is the only url segment that changes\n",
        "  url = u_base + '/' + u_db + '/' + '?' + u_key + key + '&' + u_id + steamids + '&' + u_format\n",
        "  with urllib.request.urlopen(url) as response:\n",
        "    xml = response.read()\n",
        "    if len(xml) > 15: # data will be over 15 chracters long if the user's settings are set to public\n",
        "      public_users.append(user_x)\n",
        "      public_user_data.append(xml)\n",
        "    time.sleep(1) # Add a second for each iteration to avoid SteamApi data limits"
      ],
      "execution_count": 0,
      "outputs": []
    },
    {
      "cell_type": "code",
      "metadata": {
        "id": "dC736NNEGDSI",
        "colab_type": "code",
        "outputId": "f59997c6-70d9-48f1-a5da-fe8a7c6b643f",
        "colab": {
          "base_uri": "https://localhost:8080/",
          "height": 34
        }
      },
      "source": [
        "bad_users = [5948, 6924, 9755] #indexes of weird ids that go beyond my search parameters (i.e. deleted or dumb user names)"
      ],
      "execution_count": 0,
      "outputs": [
        {
          "output_type": "execute_result",
          "data": {
            "text/plain": [
              "'76569696969696961'"
            ]
          },
          "metadata": {
            "tags": []
          },
          "execution_count": 63
        }
      ]
    },
    {
      "cell_type": "code",
      "metadata": {
        "id": "N_JedqpMhP4g",
        "colab_type": "code",
        "colab": {}
      },
      "source": [
        "# Turns the jsons in to dicts to panda datrames and combines them\n",
        "# 1st public user is the base dictionary \n",
        "public_user_dict = json.loads(public_user_data[0][12:-1]) # 0-12 and -1 are indexes that hold response formatting\n",
        "public_user_dict['userId'] = public_users[0] # add userId for future reference\n",
        "user_df = pd.DataFrame([public_user_dict], columns=public_user_dict.keys())\n",
        "\n",
        "# Same process for all other users\n",
        "for j in range(1, len(public_user_data)):\n",
        "  userx_data = json.loads(public_user_data[j][12:-1])\n",
        "  userx_data['userId'] = public_users[j]\n",
        "  user_df = user_df.append(userx_data, ignore_index=True)"
      ],
      "execution_count": 0,
      "outputs": []
    },
    {
      "cell_type": "code",
      "metadata": {
        "id": "R6jBUnRtpkkd",
        "colab_type": "code",
        "colab": {}
      },
      "source": [
        "#processed users were initialled stored in 2 dataframes\n",
        "#user_df.to_csv(r'/content/gdrive/My Drive/Colab Notebooks/user_df2.csv')\n",
        "#user_df2 = pd.read_csv('/content/gdrive/My Drive/Colab Notebooks/user_df.csv') "
      ],
      "execution_count": 0,
      "outputs": []
    },
    {
      "cell_type": "code",
      "metadata": {
        "id": "7ENPDOl-vp46",
        "colab_type": "code",
        "colab": {}
      },
      "source": [
        "#Combined and saved table with new indexes\n",
        "#public_user_table = user_df2.append(user_df, sort=False).reset_index().drop(['index', 'Unnamed: 0'], axis=1)\n",
        "#public_user_table.to_csv(r'/content/gdrive/My Drive/Colab Notebooks/public_user_table.csv')"
      ],
      "execution_count": 0,
      "outputs": []
    },
    {
      "cell_type": "markdown",
      "metadata": {
        "id": "hkp6BHKOf9mU",
        "colab_type": "text"
      },
      "source": [
        "# Organizing and Gathering Game Data"
      ]
    },
    {
      "cell_type": "code",
      "metadata": {
        "id": "YsnMY8eU0kqw",
        "colab_type": "code",
        "outputId": "d6b54b90-6969-4bd5-ccf3-f8e406dd296d",
        "colab": {
          "base_uri": "https://localhost:8080/",
          "height": 399
        }
      },
      "source": [
        "public_user_table = pd.read_csv('/content/gdrive/My Drive/Colab Notebooks/public_user_table.csv')\n",
        "public_user_table"
      ],
      "execution_count": 0,
      "outputs": [
        {
          "output_type": "execute_result",
          "data": {
            "text/html": [
              "<div>\n",
              "<style scoped>\n",
              "    .dataframe tbody tr th:only-of-type {\n",
              "        vertical-align: middle;\n",
              "    }\n",
              "\n",
              "    .dataframe tbody tr th {\n",
              "        vertical-align: top;\n",
              "    }\n",
              "\n",
              "    .dataframe thead th {\n",
              "        text-align: right;\n",
              "    }\n",
              "</style>\n",
              "<table border=\"1\" class=\"dataframe\">\n",
              "  <thead>\n",
              "    <tr style=\"text-align: right;\">\n",
              "      <th></th>\n",
              "      <th>Unnamed: 0</th>\n",
              "      <th>game_count</th>\n",
              "      <th>games</th>\n",
              "      <th>userId</th>\n",
              "    </tr>\n",
              "  </thead>\n",
              "  <tbody>\n",
              "    <tr>\n",
              "      <th>0</th>\n",
              "      <td>0</td>\n",
              "      <td>88</td>\n",
              "      <td>[{'appid': 4000, 'playtime_forever': 281, 'pla...</td>\n",
              "      <td>76561198156664158</td>\n",
              "    </tr>\n",
              "    <tr>\n",
              "      <th>1</th>\n",
              "      <td>1</td>\n",
              "      <td>106</td>\n",
              "      <td>[{'appid': 240, 'playtime_forever': 0, 'playti...</td>\n",
              "      <td>76561198043472122</td>\n",
              "    </tr>\n",
              "    <tr>\n",
              "      <th>2</th>\n",
              "      <td>2</td>\n",
              "      <td>211</td>\n",
              "      <td>[{'appid': 10, 'playtime_forever': 25, 'playti...</td>\n",
              "      <td>76561198048353577</td>\n",
              "    </tr>\n",
              "    <tr>\n",
              "      <th>3</th>\n",
              "      <td>3</td>\n",
              "      <td>185</td>\n",
              "      <td>[{'appid': 10, 'playtime_forever': 118, 'playt...</td>\n",
              "      <td>76561198100701221</td>\n",
              "    </tr>\n",
              "    <tr>\n",
              "      <th>4</th>\n",
              "      <td>4</td>\n",
              "      <td>152</td>\n",
              "      <td>[{'appid': 300, 'playtime_2weeks': 13, 'playti...</td>\n",
              "      <td>76561198078738103</td>\n",
              "    </tr>\n",
              "    <tr>\n",
              "      <th>...</th>\n",
              "      <td>...</td>\n",
              "      <td>...</td>\n",
              "      <td>...</td>\n",
              "      <td>...</td>\n",
              "    </tr>\n",
              "    <tr>\n",
              "      <th>1899</th>\n",
              "      <td>1899</td>\n",
              "      <td>63</td>\n",
              "      <td>[{'appid': 220, 'playtime_forever': 615, 'play...</td>\n",
              "      <td>76561198081816341</td>\n",
              "    </tr>\n",
              "    <tr>\n",
              "      <th>1900</th>\n",
              "      <td>1900</td>\n",
              "      <td>109</td>\n",
              "      <td>[{'appid': 4000, 'playtime_forever': 12834, 'p...</td>\n",
              "      <td>76561198083190937</td>\n",
              "    </tr>\n",
              "    <tr>\n",
              "      <th>1901</th>\n",
              "      <td>1901</td>\n",
              "      <td>22</td>\n",
              "      <td>[{'appid': 12200, 'playtime_forever': 1719, 'p...</td>\n",
              "      <td>76561198083454793</td>\n",
              "    </tr>\n",
              "    <tr>\n",
              "      <th>1902</th>\n",
              "      <td>1902</td>\n",
              "      <td>149</td>\n",
              "      <td>[{'appid': 10, 'playtime_forever': 0, 'playtim...</td>\n",
              "      <td>76561198083857294</td>\n",
              "    </tr>\n",
              "    <tr>\n",
              "      <th>1903</th>\n",
              "      <td>1903</td>\n",
              "      <td>193</td>\n",
              "      <td>[{'appid': 10, 'playtime_forever': 0, 'playtim...</td>\n",
              "      <td>76561198091169263</td>\n",
              "    </tr>\n",
              "  </tbody>\n",
              "</table>\n",
              "<p>1904 rows × 4 columns</p>\n",
              "</div>"
            ],
            "text/plain": [
              "      Unnamed: 0  ...             userId\n",
              "0              0  ...  76561198156664158\n",
              "1              1  ...  76561198043472122\n",
              "2              2  ...  76561198048353577\n",
              "3              3  ...  76561198100701221\n",
              "4              4  ...  76561198078738103\n",
              "...          ...  ...                ...\n",
              "1899        1899  ...  76561198081816341\n",
              "1900        1900  ...  76561198083190937\n",
              "1901        1901  ...  76561198083454793\n",
              "1902        1902  ...  76561198083857294\n",
              "1903        1903  ...  76561198091169263\n",
              "\n",
              "[1904 rows x 4 columns]"
            ]
          },
          "metadata": {
            "tags": []
          },
          "execution_count": 6
        }
      ]
    },
    {
      "cell_type": "code",
      "metadata": {
        "id": "Mj2IfQQWgGJr",
        "colab_type": "code",
        "outputId": "f473e425-ca98-4dd2-eff6-0e075138eac3",
        "colab": {
          "base_uri": "https://localhost:8080/",
          "height": 1000
        }
      },
      "source": [
        "str_data = public_user_table.iloc[0]['games']\n",
        "game_num = re.findall(r':* +[0-9]*[,]', str_data)\n",
        "game_num"
      ],
      "execution_count": 0,
      "outputs": [
        {
          "output_type": "execute_result",
          "data": {
            "text/plain": [
              "[': 4000,',\n",
              " ': 281,',\n",
              " ': 0,',\n",
              " ': 0,',\n",
              " ': 17390,',\n",
              " ': 1217,',\n",
              " ': 0,',\n",
              " ': 0,',\n",
              " ': 33910,',\n",
              " ': 162,',\n",
              " ': 0,',\n",
              " ': 0,',\n",
              " ': 33930,',\n",
              " ': 226,',\n",
              " ': 0,',\n",
              " ': 0,',\n",
              " ': 219540,',\n",
              " ': 0,',\n",
              " ': 0,',\n",
              " ': 0,',\n",
              " ': 400,',\n",
              " ': 196,',\n",
              " ': 0,',\n",
              " ': 0,',\n",
              " ': 620,',\n",
              " ': 1091,',\n",
              " ': 0,',\n",
              " ': 0,',\n",
              " ': 105600,',\n",
              " ': 21107,',\n",
              " ': 3294,',\n",
              " ': 0,',\n",
              " ': 104900,',\n",
              " ': 134,',\n",
              " ': 0,',\n",
              " ': 0,',\n",
              " ': 227280,',\n",
              " ': 315,',\n",
              " ': 0,',\n",
              " ': 0,',\n",
              " ': 368730,',\n",
              " ': 27,',\n",
              " ': 0,',\n",
              " ': 0,',\n",
              " ': 230410,',\n",
              " ': 55811,',\n",
              " ': 0,',\n",
              " ': 0,',\n",
              " ': 34870,',\n",
              " ': 231,',\n",
              " ': 0,',\n",
              " ': 0,',\n",
              " ': 8870,',\n",
              " ': 943,',\n",
              " ': 0,',\n",
              " ': 0,',\n",
              " ': 242760,',\n",
              " ': 3260,',\n",
              " ': 0,',\n",
              " ': 0,',\n",
              " ': 248820,',\n",
              " ': 193,',\n",
              " ': 0,',\n",
              " ': 0,',\n",
              " ': 218620,',\n",
              " ': 7916,',\n",
              " ': 99,',\n",
              " ': 0,',\n",
              " ': 252490,',\n",
              " ': 231,',\n",
              " ': 0,',\n",
              " ': 0,',\n",
              " ': 700580,',\n",
              " ': 0,',\n",
              " ': 0,',\n",
              " ': 0,',\n",
              " ': 252610,',\n",
              " ': 385,',\n",
              " ': 0,',\n",
              " ': 0,',\n",
              " ': 252950,',\n",
              " ': 22,',\n",
              " ': 49733,',\n",
              " ': 2654,',\n",
              " ': 0,',\n",
              " ': 107410,',\n",
              " ': 155,',\n",
              " ': 0,',\n",
              " ': 0,',\n",
              " ': 257850,',\n",
              " ': 688,',\n",
              " ': 0,',\n",
              " ': 0,',\n",
              " ': 265930,',\n",
              " ': 66,',\n",
              " ': 0,',\n",
              " ': 0,',\n",
              " ': 211820,',\n",
              " ': 7714,',\n",
              " ': 0,',\n",
              " ': 0,',\n",
              " ': 367540,',\n",
              " ': 0,',\n",
              " ': 0,',\n",
              " ': 0,',\n",
              " ': 274190,',\n",
              " ': 4282,',\n",
              " ': 0,',\n",
              " ': 0,',\n",
              " ': 304930,',\n",
              " ': 667,',\n",
              " ': 0,',\n",
              " ': 0,',\n",
              " ': 291480,',\n",
              " ': 15758,',\n",
              " ': 1,',\n",
              " ': 0,',\n",
              " ': 312990,',\n",
              " ': 291,',\n",
              " ': 0,',\n",
              " ': 0,',\n",
              " ': 241930,',\n",
              " ': 1445,',\n",
              " ': 0,',\n",
              " ': 0,',\n",
              " ': 324800,',\n",
              " ': 215,',\n",
              " ': 0,',\n",
              " ': 0,',\n",
              " ': 730,',\n",
              " ': 49854,',\n",
              " ': 1130,',\n",
              " ': 0,',\n",
              " ': 333930,',\n",
              " ': 10697,',\n",
              " ': 36,',\n",
              " ': 0,',\n",
              " ': 346010,',\n",
              " ': 103,',\n",
              " ': 0,',\n",
              " ': 0,',\n",
              " ': 356400,',\n",
              " ': 109,',\n",
              " ': 109,',\n",
              " ': 0,',\n",
              " ': 297130,',\n",
              " ': 157,',\n",
              " ': 0,',\n",
              " ': 0,',\n",
              " ': 361420,',\n",
              " ': 6284,',\n",
              " ': 1718,',\n",
              " ': 0,',\n",
              " ': 365450,',\n",
              " ': 23,',\n",
              " ': 0,',\n",
              " ': 0,',\n",
              " ': 269670,',\n",
              " ': 174,',\n",
              " ': 0,',\n",
              " ': 0,',\n",
              " ': 374570,',\n",
              " ': 0,',\n",
              " ': 0,',\n",
              " ': 0,',\n",
              " ': 378610,',\n",
              " ': 48,',\n",
              " ': 0,',\n",
              " ': 0,',\n",
              " ': 384190,',\n",
              " ': 279,',\n",
              " ': 0,',\n",
              " ': 0,',\n",
              " ': 383870,',\n",
              " ': 344,',\n",
              " ': 0,',\n",
              " ': 0,',\n",
              " ': 386070,',\n",
              " ': 894,',\n",
              " ': 0,',\n",
              " ': 0,',\n",
              " ': 413150,',\n",
              " ': 3789,',\n",
              " ': 0,',\n",
              " ': 0,',\n",
              " ': 413850,',\n",
              " ': 3,',\n",
              " ': 0,',\n",
              " ': 0,',\n",
              " ': 413851,',\n",
              " ': 0,',\n",
              " ': 0,',\n",
              " ': 0,',\n",
              " ': 413852,',\n",
              " ': 0,',\n",
              " ': 0,',\n",
              " ': 0,',\n",
              " ': 413853,',\n",
              " ': 0,',\n",
              " ': 0,',\n",
              " ': 0,',\n",
              " ': 413854,',\n",
              " ': 0,',\n",
              " ': 0,',\n",
              " ': 0,',\n",
              " ': 413855,',\n",
              " ': 0,',\n",
              " ': 0,',\n",
              " ': 0,',\n",
              " ': 413856,',\n",
              " ': 0,',\n",
              " ': 0,',\n",
              " ': 0,',\n",
              " ': 413857,',\n",
              " ': 0,',\n",
              " ': 0,',\n",
              " ': 0,',\n",
              " ': 413858,',\n",
              " ': 0,',\n",
              " ': 0,',\n",
              " ': 0,',\n",
              " ': 413859,',\n",
              " ': 0,',\n",
              " ': 0,',\n",
              " ': 0,',\n",
              " ': 458250,',\n",
              " ': 0,',\n",
              " ': 0,',\n",
              " ': 0,',\n",
              " ': 458260,',\n",
              " ': 0,',\n",
              " ': 0,',\n",
              " ': 0,',\n",
              " ': 458270,',\n",
              " ': 0,',\n",
              " ': 0,',\n",
              " ': 0,',\n",
              " ': 458280,',\n",
              " ': 0,',\n",
              " ': 0,',\n",
              " ': 0,',\n",
              " ': 458300,',\n",
              " ': 0,',\n",
              " ': 0,',\n",
              " ': 0,',\n",
              " ': 458310,',\n",
              " ': 0,',\n",
              " ': 0,',\n",
              " ': 0,',\n",
              " ': 458320,',\n",
              " ': 0,',\n",
              " ': 0,',\n",
              " ': 0,',\n",
              " ': 497810,',\n",
              " ': 0,',\n",
              " ': 0,',\n",
              " ': 0,',\n",
              " ': 497811,',\n",
              " ': 0,',\n",
              " ': 0,',\n",
              " ': 0,',\n",
              " ': 497812,',\n",
              " ': 0,',\n",
              " ': 0,',\n",
              " ': 0,',\n",
              " ': 497813,',\n",
              " ': 0,',\n",
              " ': 0,',\n",
              " ': 0,',\n",
              " ': 585280,',\n",
              " ': 0,',\n",
              " ': 0,',\n",
              " ': 0,',\n",
              " ': 585281,',\n",
              " ': 0,',\n",
              " ': 0,',\n",
              " ': 0,',\n",
              " ': 585282,',\n",
              " ': 0,',\n",
              " ': 0,',\n",
              " ': 0,',\n",
              " ': 585283,',\n",
              " ': 0,',\n",
              " ': 0,',\n",
              " ': 0,',\n",
              " ': 418040,',\n",
              " ': 298,',\n",
              " ': 0,',\n",
              " ': 0,',\n",
              " ': 421020,',\n",
              " ': 565,',\n",
              " ': 565,',\n",
              " ': 0,',\n",
              " ': 431960,',\n",
              " ': 52,',\n",
              " ': 1168,',\n",
              " ': 157,',\n",
              " ': 0,',\n",
              " ': 445980,',\n",
              " ': 349,',\n",
              " ': 0,',\n",
              " ': 0,',\n",
              " ': 379720,',\n",
              " ': 841,',\n",
              " ': 0,',\n",
              " ': 0,',\n",
              " ': 470220,',\n",
              " ': 69,',\n",
              " ': 69,',\n",
              " ': 69,',\n",
              " ': 0,',\n",
              " ': 359550,',\n",
              " ': 229,',\n",
              " ': 26140,',\n",
              " ': 14451,',\n",
              " ': 0,',\n",
              " ': 623990,',\n",
              " ': 0,',\n",
              " ': 0,',\n",
              " ': 0,',\n",
              " ': 273350,',\n",
              " ': 34,',\n",
              " ': 0,',\n",
              " ': 0,',\n",
              " ': 517710,',\n",
              " ': 768,',\n",
              " ': 0,',\n",
              " ': 0,',\n",
              " ': 518790,',\n",
              " ': 1915,',\n",
              " ': 115,',\n",
              " ': 0,',\n",
              " ': 249050,',\n",
              " ': 248,',\n",
              " ': 0,',\n",
              " ': 0,',\n",
              " ': 588650,',\n",
              " ': 4010,',\n",
              " ': 826,',\n",
              " ': 0,',\n",
              " ': 674940,',\n",
              " ': 229,',\n",
              " ': 0,',\n",
              " ': 0,',\n",
              " ': 584400,',\n",
              " ': 29,',\n",
              " ': 0,',\n",
              " ': 0,',\n",
              " ': 732430,',\n",
              " ': 175,',\n",
              " ': 0,',\n",
              " ': 0,',\n",
              " ': 976730,',\n",
              " ': 455,',\n",
              " ': 455,',\n",
              " ': 0,']"
            ]
          },
          "metadata": {
            "tags": []
          },
          "execution_count": 26
        }
      ]
    },
    {
      "cell_type": "code",
      "metadata": {
        "id": "G_kU5Skc1vT2",
        "colab_type": "code",
        "outputId": "d7661669-b294-481a-8f25-e0dd2c080915",
        "colab": {
          "base_uri": "https://localhost:8080/",
          "height": 55
        }
      },
      "source": [
        "str_data"
      ],
      "execution_count": 0,
      "outputs": [
        {
          "output_type": "execute_result",
          "data": {
            "text/plain": [
              "\"[{'appid': 4000, 'playtime_forever': 281, 'playtime_windows_forever': 0, 'playtime_mac_forever': 0, 'playtime_linux_forever': 0}, {'appid': 17390, 'playtime_forever': 1217, 'playtime_windows_forever': 0, 'playtime_mac_forever': 0, 'playtime_linux_forever': 0}, {'appid': 33910, 'playtime_forever': 162, 'playtime_windows_forever': 0, 'playtime_mac_forever': 0, 'playtime_linux_forever': 0}, {'appid': 33930, 'playtime_forever': 226, 'playtime_windows_forever': 0, 'playtime_mac_forever': 0, 'playtime_linux_forever': 0}, {'appid': 219540, 'playtime_forever': 0, 'playtime_windows_forever': 0, 'playtime_mac_forever': 0, 'playtime_linux_forever': 0}, {'appid': 400, 'playtime_forever': 196, 'playtime_windows_forever': 0, 'playtime_mac_forever': 0, 'playtime_linux_forever': 0}, {'appid': 620, 'playtime_forever': 1091, 'playtime_windows_forever': 0, 'playtime_mac_forever': 0, 'playtime_linux_forever': 0}, {'appid': 105600, 'playtime_forever': 21107, 'playtime_windows_forever': 3294, 'playtime_mac_forever': 0, 'playtime_linux_forever': 0}, {'appid': 104900, 'playtime_forever': 134, 'playtime_windows_forever': 0, 'playtime_mac_forever': 0, 'playtime_linux_forever': 0}, {'appid': 227280, 'playtime_forever': 315, 'playtime_windows_forever': 0, 'playtime_mac_forever': 0, 'playtime_linux_forever': 0}, {'appid': 368730, 'playtime_forever': 27, 'playtime_windows_forever': 0, 'playtime_mac_forever': 0, 'playtime_linux_forever': 0}, {'appid': 230410, 'playtime_forever': 55811, 'playtime_windows_forever': 0, 'playtime_mac_forever': 0, 'playtime_linux_forever': 0}, {'appid': 34870, 'playtime_forever': 231, 'playtime_windows_forever': 0, 'playtime_mac_forever': 0, 'playtime_linux_forever': 0}, {'appid': 8870, 'playtime_forever': 943, 'playtime_windows_forever': 0, 'playtime_mac_forever': 0, 'playtime_linux_forever': 0}, {'appid': 242760, 'playtime_forever': 3260, 'playtime_windows_forever': 0, 'playtime_mac_forever': 0, 'playtime_linux_forever': 0}, {'appid': 248820, 'playtime_forever': 193, 'playtime_windows_forever': 0, 'playtime_mac_forever': 0, 'playtime_linux_forever': 0}, {'appid': 218620, 'playtime_forever': 7916, 'playtime_windows_forever': 99, 'playtime_mac_forever': 0, 'playtime_linux_forever': 0}, {'appid': 252490, 'playtime_forever': 231, 'playtime_windows_forever': 0, 'playtime_mac_forever': 0, 'playtime_linux_forever': 0}, {'appid': 700580, 'playtime_forever': 0, 'playtime_windows_forever': 0, 'playtime_mac_forever': 0, 'playtime_linux_forever': 0}, {'appid': 252610, 'playtime_forever': 385, 'playtime_windows_forever': 0, 'playtime_mac_forever': 0, 'playtime_linux_forever': 0}, {'appid': 252950, 'playtime_2weeks': 22, 'playtime_forever': 49733, 'playtime_windows_forever': 2654, 'playtime_mac_forever': 0, 'playtime_linux_forever': 0}, {'appid': 107410, 'playtime_forever': 155, 'playtime_windows_forever': 0, 'playtime_mac_forever': 0, 'playtime_linux_forever': 0}, {'appid': 257850, 'playtime_forever': 688, 'playtime_windows_forever': 0, 'playtime_mac_forever': 0, 'playtime_linux_forever': 0}, {'appid': 265930, 'playtime_forever': 66, 'playtime_windows_forever': 0, 'playtime_mac_forever': 0, 'playtime_linux_forever': 0}, {'appid': 211820, 'playtime_forever': 7714, 'playtime_windows_forever': 0, 'playtime_mac_forever': 0, 'playtime_linux_forever': 0}, {'appid': 367540, 'playtime_forever': 0, 'playtime_windows_forever': 0, 'playtime_mac_forever': 0, 'playtime_linux_forever': 0}, {'appid': 274190, 'playtime_forever': 4282, 'playtime_windows_forever': 0, 'playtime_mac_forever': 0, 'playtime_linux_forever': 0}, {'appid': 304930, 'playtime_forever': 667, 'playtime_windows_forever': 0, 'playtime_mac_forever': 0, 'playtime_linux_forever': 0}, {'appid': 291480, 'playtime_forever': 15758, 'playtime_windows_forever': 1, 'playtime_mac_forever': 0, 'playtime_linux_forever': 0}, {'appid': 312990, 'playtime_forever': 291, 'playtime_windows_forever': 0, 'playtime_mac_forever': 0, 'playtime_linux_forever': 0}, {'appid': 241930, 'playtime_forever': 1445, 'playtime_windows_forever': 0, 'playtime_mac_forever': 0, 'playtime_linux_forever': 0}, {'appid': 324800, 'playtime_forever': 215, 'playtime_windows_forever': 0, 'playtime_mac_forever': 0, 'playtime_linux_forever': 0}, {'appid': 730, 'playtime_forever': 49854, 'playtime_windows_forever': 1130, 'playtime_mac_forever': 0, 'playtime_linux_forever': 0}, {'appid': 333930, 'playtime_forever': 10697, 'playtime_windows_forever': 36, 'playtime_mac_forever': 0, 'playtime_linux_forever': 0}, {'appid': 346010, 'playtime_forever': 103, 'playtime_windows_forever': 0, 'playtime_mac_forever': 0, 'playtime_linux_forever': 0}, {'appid': 356400, 'playtime_forever': 109, 'playtime_windows_forever': 109, 'playtime_mac_forever': 0, 'playtime_linux_forever': 0}, {'appid': 297130, 'playtime_forever': 157, 'playtime_windows_forever': 0, 'playtime_mac_forever': 0, 'playtime_linux_forever': 0}, {'appid': 361420, 'playtime_forever': 6284, 'playtime_windows_forever': 1718, 'playtime_mac_forever': 0, 'playtime_linux_forever': 0}, {'appid': 365450, 'playtime_forever': 23, 'playtime_windows_forever': 0, 'playtime_mac_forever': 0, 'playtime_linux_forever': 0}, {'appid': 269670, 'playtime_forever': 174, 'playtime_windows_forever': 0, 'playtime_mac_forever': 0, 'playtime_linux_forever': 0}, {'appid': 374570, 'playtime_forever': 0, 'playtime_windows_forever': 0, 'playtime_mac_forever': 0, 'playtime_linux_forever': 0}, {'appid': 378610, 'playtime_forever': 48, 'playtime_windows_forever': 0, 'playtime_mac_forever': 0, 'playtime_linux_forever': 0}, {'appid': 384190, 'playtime_forever': 279, 'playtime_windows_forever': 0, 'playtime_mac_forever': 0, 'playtime_linux_forever': 0}, {'appid': 383870, 'playtime_forever': 344, 'playtime_windows_forever': 0, 'playtime_mac_forever': 0, 'playtime_linux_forever': 0}, {'appid': 386070, 'playtime_forever': 894, 'playtime_windows_forever': 0, 'playtime_mac_forever': 0, 'playtime_linux_forever': 0}, {'appid': 413150, 'playtime_forever': 3789, 'playtime_windows_forever': 0, 'playtime_mac_forever': 0, 'playtime_linux_forever': 0}, {'appid': 413850, 'playtime_forever': 3, 'playtime_windows_forever': 0, 'playtime_mac_forever': 0, 'playtime_linux_forever': 0}, {'appid': 413851, 'playtime_forever': 0, 'playtime_windows_forever': 0, 'playtime_mac_forever': 0, 'playtime_linux_forever': 0}, {'appid': 413852, 'playtime_forever': 0, 'playtime_windows_forever': 0, 'playtime_mac_forever': 0, 'playtime_linux_forever': 0}, {'appid': 413853, 'playtime_forever': 0, 'playtime_windows_forever': 0, 'playtime_mac_forever': 0, 'playtime_linux_forever': 0}, {'appid': 413854, 'playtime_forever': 0, 'playtime_windows_forever': 0, 'playtime_mac_forever': 0, 'playtime_linux_forever': 0}, {'appid': 413855, 'playtime_forever': 0, 'playtime_windows_forever': 0, 'playtime_mac_forever': 0, 'playtime_linux_forever': 0}, {'appid': 413856, 'playtime_forever': 0, 'playtime_windows_forever': 0, 'playtime_mac_forever': 0, 'playtime_linux_forever': 0}, {'appid': 413857, 'playtime_forever': 0, 'playtime_windows_forever': 0, 'playtime_mac_forever': 0, 'playtime_linux_forever': 0}, {'appid': 413858, 'playtime_forever': 0, 'playtime_windows_forever': 0, 'playtime_mac_forever': 0, 'playtime_linux_forever': 0}, {'appid': 413859, 'playtime_forever': 0, 'playtime_windows_forever': 0, 'playtime_mac_forever': 0, 'playtime_linux_forever': 0}, {'appid': 458250, 'playtime_forever': 0, 'playtime_windows_forever': 0, 'playtime_mac_forever': 0, 'playtime_linux_forever': 0}, {'appid': 458260, 'playtime_forever': 0, 'playtime_windows_forever': 0, 'playtime_mac_forever': 0, 'playtime_linux_forever': 0}, {'appid': 458270, 'playtime_forever': 0, 'playtime_windows_forever': 0, 'playtime_mac_forever': 0, 'playtime_linux_forever': 0}, {'appid': 458280, 'playtime_forever': 0, 'playtime_windows_forever': 0, 'playtime_mac_forever': 0, 'playtime_linux_forever': 0}, {'appid': 458300, 'playtime_forever': 0, 'playtime_windows_forever': 0, 'playtime_mac_forever': 0, 'playtime_linux_forever': 0}, {'appid': 458310, 'playtime_forever': 0, 'playtime_windows_forever': 0, 'playtime_mac_forever': 0, 'playtime_linux_forever': 0}, {'appid': 458320, 'playtime_forever': 0, 'playtime_windows_forever': 0, 'playtime_mac_forever': 0, 'playtime_linux_forever': 0}, {'appid': 497810, 'playtime_forever': 0, 'playtime_windows_forever': 0, 'playtime_mac_forever': 0, 'playtime_linux_forever': 0}, {'appid': 497811, 'playtime_forever': 0, 'playtime_windows_forever': 0, 'playtime_mac_forever': 0, 'playtime_linux_forever': 0}, {'appid': 497812, 'playtime_forever': 0, 'playtime_windows_forever': 0, 'playtime_mac_forever': 0, 'playtime_linux_forever': 0}, {'appid': 497813, 'playtime_forever': 0, 'playtime_windows_forever': 0, 'playtime_mac_forever': 0, 'playtime_linux_forever': 0}, {'appid': 585280, 'playtime_forever': 0, 'playtime_windows_forever': 0, 'playtime_mac_forever': 0, 'playtime_linux_forever': 0}, {'appid': 585281, 'playtime_forever': 0, 'playtime_windows_forever': 0, 'playtime_mac_forever': 0, 'playtime_linux_forever': 0}, {'appid': 585282, 'playtime_forever': 0, 'playtime_windows_forever': 0, 'playtime_mac_forever': 0, 'playtime_linux_forever': 0}, {'appid': 585283, 'playtime_forever': 0, 'playtime_windows_forever': 0, 'playtime_mac_forever': 0, 'playtime_linux_forever': 0}, {'appid': 418040, 'playtime_forever': 298, 'playtime_windows_forever': 0, 'playtime_mac_forever': 0, 'playtime_linux_forever': 0}, {'appid': 421020, 'playtime_forever': 565, 'playtime_windows_forever': 565, 'playtime_mac_forever': 0, 'playtime_linux_forever': 0}, {'appid': 431960, 'playtime_2weeks': 52, 'playtime_forever': 1168, 'playtime_windows_forever': 157, 'playtime_mac_forever': 0, 'playtime_linux_forever': 0}, {'appid': 445980, 'playtime_forever': 349, 'playtime_windows_forever': 0, 'playtime_mac_forever': 0, 'playtime_linux_forever': 0}, {'appid': 379720, 'playtime_forever': 841, 'playtime_windows_forever': 0, 'playtime_mac_forever': 0, 'playtime_linux_forever': 0}, {'appid': 470220, 'playtime_2weeks': 69, 'playtime_forever': 69, 'playtime_windows_forever': 69, 'playtime_mac_forever': 0, 'playtime_linux_forever': 0}, {'appid': 359550, 'playtime_2weeks': 229, 'playtime_forever': 26140, 'playtime_windows_forever': 14451, 'playtime_mac_forever': 0, 'playtime_linux_forever': 0}, {'appid': 623990, 'playtime_forever': 0, 'playtime_windows_forever': 0, 'playtime_mac_forever': 0, 'playtime_linux_forever': 0}, {'appid': 273350, 'playtime_forever': 34, 'playtime_windows_forever': 0, 'playtime_mac_forever': 0, 'playtime_linux_forever': 0}, {'appid': 517710, 'playtime_forever': 768, 'playtime_windows_forever': 0, 'playtime_mac_forever': 0, 'playtime_linux_forever': 0}, {'appid': 518790, 'playtime_forever': 1915, 'playtime_windows_forever': 115, 'playtime_mac_forever': 0, 'playtime_linux_forever': 0}, {'appid': 249050, 'playtime_forever': 248, 'playtime_windows_forever': 0, 'playtime_mac_forever': 0, 'playtime_linux_forever': 0}, {'appid': 588650, 'playtime_forever': 4010, 'playtime_windows_forever': 826, 'playtime_mac_forever': 0, 'playtime_linux_forever': 0}, {'appid': 674940, 'playtime_forever': 229, 'playtime_windows_forever': 0, 'playtime_mac_forever': 0, 'playtime_linux_forever': 0}, {'appid': 584400, 'playtime_forever': 29, 'playtime_windows_forever': 0, 'playtime_mac_forever': 0, 'playtime_linux_forever': 0}, {'appid': 732430, 'playtime_forever': 175, 'playtime_windows_forever': 0, 'playtime_mac_forever': 0, 'playtime_linux_forever': 0}, {'appid': 976730, 'playtime_forever': 455, 'playtime_windows_forever': 455, 'playtime_mac_forever': 0, 'playtime_linux_forever': 0}]\""
            ]
          },
          "metadata": {
            "tags": []
          },
          "execution_count": 27
        }
      ]
    },
    {
      "cell_type": "code",
      "metadata": {
        "id": "lU53Vcs42v4Y",
        "colab_type": "code",
        "colab": {}
      },
      "source": [
        ""
      ],
      "execution_count": 0,
      "outputs": []
    }
  ]
}