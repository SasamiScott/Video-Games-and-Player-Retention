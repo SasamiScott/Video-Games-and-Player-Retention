{
  "nbformat": 4,
  "nbformat_minor": 0,
  "metadata": {
    "colab": {
      "name": "HDSI Research.ipynb",
      "provenance": [],
      "collapsed_sections": [
        "7iq8FcYN05Es",
        "jQlL_Z7QxVZ2"
      ],
      "include_colab_link": true
    },
    "kernelspec": {
      "name": "python3",
      "display_name": "Python 3"
    }
  },
  "cells": [
    {
      "cell_type": "markdown",
      "metadata": {
        "id": "view-in-github",
        "colab_type": "text"
      },
      "source": [
        "<a href=\"https://colab.research.google.com/github/SasamiScott/Video-Games-and-Player-Retention/blob/master/HDSI_Research.ipynb\" target=\"_parent\"><img src=\"https://colab.research.google.com/assets/colab-badge.svg\" alt=\"Open In Colab\"/></a>"
      ]
    },
    {
      "cell_type": "code",
      "metadata": {
        "id": "LX-IJVdevBft",
        "colab_type": "code",
        "colab": {}
      },
      "source": [
        "import pickle\n",
        "import numpy as np\n",
        "import urllib.request\n",
        "import time\n",
        "import pandas as pd\n",
        "import json\n",
        "import re"
      ],
      "execution_count": 0,
      "outputs": []
    },
    {
      "cell_type": "code",
      "metadata": {
        "id": "vSQIQzscxTEl",
        "colab_type": "code",
        "outputId": "392aeb34-c6d5-473d-935f-54af7ab55bf6",
        "colab": {
          "base_uri": "https://localhost:8080/",
          "height": 126
        }
      },
      "source": [
        "from google.colab import drive\n",
        "drive.mount('/content/gdrive')"
      ],
      "execution_count": 0,
      "outputs": [
        {
          "output_type": "stream",
          "text": [
            "Go to this URL in a browser: https://accounts.google.com/o/oauth2/auth?client_id=947318989803-6bn6qk8qdgf4n4g3pfee6491hc0brc4i.apps.googleusercontent.com&redirect_uri=urn%3aietf%3awg%3aoauth%3a2.0%3aoob&response_type=code&scope=email%20https%3a%2f%2fwww.googleapis.com%2fauth%2fdocs.test%20https%3a%2f%2fwww.googleapis.com%2fauth%2fdrive%20https%3a%2f%2fwww.googleapis.com%2fauth%2fdrive.photos.readonly%20https%3a%2f%2fwww.googleapis.com%2fauth%2fpeopleapi.readonly\n",
            "\n",
            "Enter your authorization code:\n",
            "··········\n",
            "Mounted at /content/gdrive\n"
          ],
          "name": "stdout"
        }
      ]
    },
    {
      "cell_type": "markdown",
      "metadata": {
        "id": "FNJLtWXdfuDB",
        "colab_type": "text"
      },
      "source": [
        "# Gathering User Data"
      ]
    },
    {
      "cell_type": "code",
      "metadata": {
        "id": "WRDRyCC-vJs_",
        "colab_type": "code",
        "outputId": "87e03751-1d88-4c6f-af2c-eec77024f283",
        "colab": {
          "base_uri": "https://localhost:8080/",
          "height": 35
        }
      },
      "source": [
        "#This contains code and data from McAuley \n",
        "user_f = '/content/gdrive/My Drive/Colab Notebooks/user_id_lookup.txt'\n",
        "users = pickle.load(open(user_f,'rb'))\n",
        "\n",
        "#From his user file I want every userId on record, but this are mixed with usernames\n",
        "user_ids = []\n",
        "for id in range(len(users)):\n",
        "  try:\n",
        "    int(users[id]) #ids are all numbers\n",
        "    if len(users[id]) == 17 and users[id][0] == '7': # ids are 17 chracters and begin with 7\n",
        "      user_ids.append(users[id])\n",
        "  except:\n",
        "    continue\n",
        "  \n",
        "print(\"Number of User Ids: \" + str(len(user_ids)))"
      ],
      "execution_count": 0,
      "outputs": [
        {
          "output_type": "stream",
          "text": [
            "Number of User Ids: 14445\n"
          ],
          "name": "stdout"
        }
      ]
    },
    {
      "cell_type": "code",
      "metadata": {
        "id": "_B6R0Ej46kiF",
        "colab_type": "code",
        "colab": {}
      },
      "source": [
        "#Set ups the non changing components of the url I'm using to test userIds and get user data on games owned\n",
        "u_base = 'http://api.steampowered.com/IPlayerService'\n",
        "u_db = 'GetOwnedGames/v0001'\n",
        "u_key = '?key='\n",
        "key = 'A43433F6225B90C91D6DD1F3783AF943'\n",
        "u_format = 'format=json'\n",
        "u_id = 'steamid='\n",
        "\n",
        "public_users = [] #Ids\n",
        "public_user_data = [] #Games owned and associated playtimes"
      ],
      "execution_count": 0,
      "outputs": []
    },
    {
      "cell_type": "code",
      "metadata": {
        "id": "iI2XWgL78Ttg",
        "colab_type": "code",
        "colab": {}
      },
      "source": [
        "# PERSONAL: check 13000 - 14445 again only a 22 user id difference from 12000 - 13000\n",
        "\n",
        "for i in range(1, len(user_ids)): # INCREMENT RANGE TO 1000\n",
        "  user_x = user_ids[i]\n",
        "  steamids = user_x # the user id is the only url segment that changes\n",
        "  url = u_base + '/' + u_db + '/' + '?' + u_key + key + '&' + u_id + steamids + '&' + u_format\n",
        "  with urllib.request.urlopen(url) as response:\n",
        "    xml = response.read()\n",
        "    if len(xml) > 15: # data will be over 15 chracters long if the user's settings are set to public\n",
        "      public_users.append(user_x)\n",
        "      public_user_data.append(xml)\n",
        "    time.sleep(1) # Add a second for each iteration to avoid SteamApi data limits"
      ],
      "execution_count": 0,
      "outputs": []
    },
    {
      "cell_type": "code",
      "metadata": {
        "id": "dC736NNEGDSI",
        "colab_type": "code",
        "outputId": "f59997c6-70d9-48f1-a5da-fe8a7c6b643f",
        "colab": {
          "base_uri": "https://localhost:8080/",
          "height": 34
        }
      },
      "source": [
        "bad_users = [5948, 6924, 9755] #indexes of weird ids that go beyond my search parameters (i.e. deleted or dumb user names)"
      ],
      "execution_count": 0,
      "outputs": [
        {
          "output_type": "execute_result",
          "data": {
            "text/plain": [
              "'76569696969696961'"
            ]
          },
          "metadata": {
            "tags": []
          },
          "execution_count": 63
        }
      ]
    },
    {
      "cell_type": "code",
      "metadata": {
        "id": "N_JedqpMhP4g",
        "colab_type": "code",
        "colab": {}
      },
      "source": [
        "# Turns the jsons in to dicts to panda datrames and combines them\n",
        "# 1st public user is the base dictionary \n",
        "public_user_dict = json.loads(public_user_data[0][12:-1]) # 0-12 and -1 are indexes that hold response formatting\n",
        "public_user_dict['userId'] = public_users[0] # add userId for future reference\n",
        "user_df = pd.DataFrame([public_user_dict], columns=public_user_dict.keys())\n",
        "\n",
        "# Same process for all other users\n",
        "for j in range(1, len(public_user_data)):\n",
        "  userx_data = json.loads(public_user_data[j][12:-1])\n",
        "  userx_data['userId'] = public_users[j]\n",
        "  user_df = user_df.append(userx_data, ignore_index=True)"
      ],
      "execution_count": 0,
      "outputs": []
    },
    {
      "cell_type": "code",
      "metadata": {
        "id": "R6jBUnRtpkkd",
        "colab_type": "code",
        "colab": {}
      },
      "source": [
        "#processed users were initialled stored in 2 dataframes\n",
        "#user_df.to_csv(r'/content/gdrive/My Drive/Colab Notebooks/user_df2.csv')\n",
        "#user_df2 = pd.read_csv('/content/gdrive/My Drive/Colab Notebooks/user_df.csv') "
      ],
      "execution_count": 0,
      "outputs": []
    },
    {
      "cell_type": "code",
      "metadata": {
        "id": "7ENPDOl-vp46",
        "colab_type": "code",
        "colab": {}
      },
      "source": [
        "#Combined and saved table with new indexes\n",
        "#public_user_table = user_df2.append(user_df, sort=False).reset_index().drop(['index', 'Unnamed: 0'], axis=1)\n",
        "#public_user_table.to_csv(r'/content/gdrive/My Drive/Colab Notebooks/public_user_table.csv')"
      ],
      "execution_count": 0,
      "outputs": []
    },
    {
      "cell_type": "markdown",
      "metadata": {
        "id": "hkp6BHKOf9mU",
        "colab_type": "text"
      },
      "source": [
        "# Organizing and Gathering Game Data"
      ]
    },
    {
      "cell_type": "code",
      "metadata": {
        "id": "YsnMY8eU0kqw",
        "colab_type": "code",
        "outputId": "d6b54b90-6969-4bd5-ccf3-f8e406dd296d",
        "colab": {
          "base_uri": "https://localhost:8080/",
          "height": 399
        }
      },
      "source": [
        "public_user_table = pd.read_csv('/content/gdrive/My Drive/Colab Notebooks/public_user_table.csv')\n",
        "public_user_table"
      ],
      "execution_count": 0,
      "outputs": [
        {
          "output_type": "execute_result",
          "data": {
            "text/html": [
              "<div>\n",
              "<style scoped>\n",
              "    .dataframe tbody tr th:only-of-type {\n",
              "        vertical-align: middle;\n",
              "    }\n",
              "\n",
              "    .dataframe tbody tr th {\n",
              "        vertical-align: top;\n",
              "    }\n",
              "\n",
              "    .dataframe thead th {\n",
              "        text-align: right;\n",
              "    }\n",
              "</style>\n",
              "<table border=\"1\" class=\"dataframe\">\n",
              "  <thead>\n",
              "    <tr style=\"text-align: right;\">\n",
              "      <th></th>\n",
              "      <th>Unnamed: 0</th>\n",
              "      <th>game_count</th>\n",
              "      <th>games</th>\n",
              "      <th>userId</th>\n",
              "    </tr>\n",
              "  </thead>\n",
              "  <tbody>\n",
              "    <tr>\n",
              "      <th>0</th>\n",
              "      <td>0</td>\n",
              "      <td>88</td>\n",
              "      <td>[{'appid': 4000, 'playtime_forever': 281, 'pla...</td>\n",
              "      <td>76561198156664158</td>\n",
              "    </tr>\n",
              "    <tr>\n",
              "      <th>1</th>\n",
              "      <td>1</td>\n",
              "      <td>106</td>\n",
              "      <td>[{'appid': 240, 'playtime_forever': 0, 'playti...</td>\n",
              "      <td>76561198043472122</td>\n",
              "    </tr>\n",
              "    <tr>\n",
              "      <th>2</th>\n",
              "      <td>2</td>\n",
              "      <td>211</td>\n",
              "      <td>[{'appid': 10, 'playtime_forever': 25, 'playti...</td>\n",
              "      <td>76561198048353577</td>\n",
              "    </tr>\n",
              "    <tr>\n",
              "      <th>3</th>\n",
              "      <td>3</td>\n",
              "      <td>185</td>\n",
              "      <td>[{'appid': 10, 'playtime_forever': 118, 'playt...</td>\n",
              "      <td>76561198100701221</td>\n",
              "    </tr>\n",
              "    <tr>\n",
              "      <th>4</th>\n",
              "      <td>4</td>\n",
              "      <td>152</td>\n",
              "      <td>[{'appid': 300, 'playtime_2weeks': 13, 'playti...</td>\n",
              "      <td>76561198078738103</td>\n",
              "    </tr>\n",
              "    <tr>\n",
              "      <th>...</th>\n",
              "      <td>...</td>\n",
              "      <td>...</td>\n",
              "      <td>...</td>\n",
              "      <td>...</td>\n",
              "    </tr>\n",
              "    <tr>\n",
              "      <th>1899</th>\n",
              "      <td>1899</td>\n",
              "      <td>63</td>\n",
              "      <td>[{'appid': 220, 'playtime_forever': 615, 'play...</td>\n",
              "      <td>76561198081816341</td>\n",
              "    </tr>\n",
              "    <tr>\n",
              "      <th>1900</th>\n",
              "      <td>1900</td>\n",
              "      <td>109</td>\n",
              "      <td>[{'appid': 4000, 'playtime_forever': 12834, 'p...</td>\n",
              "      <td>76561198083190937</td>\n",
              "    </tr>\n",
              "    <tr>\n",
              "      <th>1901</th>\n",
              "      <td>1901</td>\n",
              "      <td>22</td>\n",
              "      <td>[{'appid': 12200, 'playtime_forever': 1719, 'p...</td>\n",
              "      <td>76561198083454793</td>\n",
              "    </tr>\n",
              "    <tr>\n",
              "      <th>1902</th>\n",
              "      <td>1902</td>\n",
              "      <td>149</td>\n",
              "      <td>[{'appid': 10, 'playtime_forever': 0, 'playtim...</td>\n",
              "      <td>76561198083857294</td>\n",
              "    </tr>\n",
              "    <tr>\n",
              "      <th>1903</th>\n",
              "      <td>1903</td>\n",
              "      <td>193</td>\n",
              "      <td>[{'appid': 10, 'playtime_forever': 0, 'playtim...</td>\n",
              "      <td>76561198091169263</td>\n",
              "    </tr>\n",
              "  </tbody>\n",
              "</table>\n",
              "<p>1904 rows × 4 columns</p>\n",
              "</div>"
            ],
            "text/plain": [
              "      Unnamed: 0  ...             userId\n",
              "0              0  ...  76561198156664158\n",
              "1              1  ...  76561198043472122\n",
              "2              2  ...  76561198048353577\n",
              "3              3  ...  76561198100701221\n",
              "4              4  ...  76561198078738103\n",
              "...          ...  ...                ...\n",
              "1899        1899  ...  76561198081816341\n",
              "1900        1900  ...  76561198083190937\n",
              "1901        1901  ...  76561198083454793\n",
              "1902        1902  ...  76561198083857294\n",
              "1903        1903  ...  76561198091169263\n",
              "\n",
              "[1904 rows x 4 columns]"
            ]
          },
          "metadata": {
            "tags": []
          },
          "execution_count": 6
        }
      ]
    }
  ]
}